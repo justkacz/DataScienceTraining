{
 "cells": [
  {
   "cell_type": "code",
   "execution_count": 18,
   "id": "066cb932",
   "metadata": {},
   "outputs": [
    {
     "data": {
      "text/plain": [
       "array([0, 0, 0, 0, 0, 0, 0, 1, 1, 1, 1, 1, 1, 1, 1, 1, 1, 2, 2, 2, 2, 2,\n",
       "       2, 2, 2, 2, 3, 3, 3, 3, 3, 3, 3, 3, 3, 4, 4, 4, 4, 4, 4, 4, 4, 4,\n",
       "       4, 5, 5, 5, 5, 5, 5, 6, 6, 6, 6, 6, 6, 6, 6, 6, 6, 6, 7, 7, 7, 7,\n",
       "       7, 7, 7, 7, 7, 7, 7, 7, 7, 7, 7, 8, 8, 8, 8, 8, 8, 8, 8, 8, 8, 8,\n",
       "       8, 9, 9, 9, 9, 9, 9, 9, 9, 9, 9, 9])"
      ]
     },
     "execution_count": 18,
     "metadata": {},
     "output_type": "execute_result"
    }
   ],
   "source": [
    "import pandas as pd\n",
    "import numpy as np\n",
    "\n",
    "# computing the ECDF = empirical Cumulative Distribution Function for a one-dimensional array of measurements, \n",
    "#it is a step function that jumps up by 1/n at each of the n data points:\n",
    "\n",
    "# n=len(data)\n",
    "\n",
    "# x=np.sort(data)\n",
    "# y=np.arange(1, n+1)/2\n",
    "\n",
    "# as function:\n",
    "def ecdf(data):\n",
    "    n=len(data)\n",
    "    x=np.sort(df)\n",
    "    y=np.arange(1, n+1)/n\n",
    "    return x, y\n"
   ]
  },
  {
   "cell_type": "code",
   "execution_count": 25,
   "id": "970b2044",
   "metadata": {},
   "outputs": [
    {
     "data": {
      "text/plain": [
       "[<matplotlib.lines.Line2D at 0x22eeaea9730>]"
      ]
     },
     "execution_count": 25,
     "metadata": {},
     "output_type": "execute_result"
    },
    {
     "data": {
      "image/png": "[encoded data removed]",
      "text/plain": [
       "<Figure size 432x288 with 1 Axes>"
      ]
     },
     "metadata": {},
     "output_type": "display_data"
    }
   ],
   "source": [
    "import matplotlib.pyplot as plt\n",
    "import seaborn as sns\n",
    "\n",
    "sns.set()\n",
    "\n",
    "rng=np.random.RandomState(42)\n",
    "df=rng.randint(0,50, 1000)\n",
    "\n",
    "x_vers, y_vers =ecdf(df)\n",
    "\n",
    "plt.plot(x_vers, y_vers, marker='.', linestyle='none')"
   ]
  },
  {
   "cell_type": "code",
   "execution_count": 11,
   "id": "4578ff92",
   "metadata": {},
   "outputs": [],
   "source": [
    "np.random.rand?\n",
    "# np.arange?"
   ]
  }
 ],
 "metadata": {
  "kernelspec": {
   "display_name": "Python 3",
   "language": "python",
   "name": "python3"
  },
  "language_info": {
   "codemirror_mode": {
    "name": "ipython",
    "version": 3
   },
   "file_extension": ".py",
   "mimetype": "text/x-python",
   "name": "python",
   "nbconvert_exporter": "python",
   "pygments_lexer": "ipython3",
   "version": "3.8.8"
  }
 },
 "nbformat": 4,
 "nbformat_minor": 5
}
