{
 "cells": [
  {
   "cell_type": "code",
   "execution_count": 1,
   "id": "e502beca",
   "metadata": {},
   "outputs": [
    {
     "data": {
      "text/plain": [
       "True"
      ]
     },
     "execution_count": 1,
     "metadata": {},
     "output_type": "execute_result"
    }
   ],
   "source": [
    "a=5\n",
    "isinstance(a, int)"
   ]
  },
  {
   "cell_type": "code",
   "execution_count": 8,
   "id": "907aa582",
   "metadata": {},
   "outputs": [
    {
     "data": {
      "text/plain": [
       "<list_iterator at 0x1fa3f84f3a0>"
      ]
     },
     "execution_count": 8,
     "metadata": {},
     "output_type": "execute_result"
    }
   ],
   "source": [
    "a=[1,2,3]\n",
    "iter(a)\n"
   ]
  },
  {
   "cell_type": "code",
   "execution_count": 16,
   "id": "38b3688f",
   "metadata": {},
   "outputs": [
    {
     "data": {
      "text/plain": [
       "2"
      ]
     },
     "execution_count": 16,
     "metadata": {},
     "output_type": "execute_result"
    }
   ],
   "source": [
    "from datetime import datetime, date, time\n",
    "\n",
    "dt=datetime(2022, 3, 16, 20, 30, 41)\n",
    "dt.weekday()"
   ]
  },
  {
   "cell_type": "code",
   "execution_count": 17,
   "id": "d331e071",
   "metadata": {},
   "outputs": [
    {
     "data": {
      "text/plain": [
       "datetime.time(20, 30, 41)"
      ]
     },
     "execution_count": 17,
     "metadata": {},
     "output_type": "execute_result"
    }
   ],
   "source": [
    "dt.time()"
   ]
  },
  {
   "cell_type": "code",
   "execution_count": 20,
   "id": "93a9c39a",
   "metadata": {},
   "outputs": [
    {
     "data": {
      "text/plain": [
       "'03/16/2022 20:30'"
      ]
     },
     "execution_count": 20,
     "metadata": {},
     "output_type": "execute_result"
    }
   ],
   "source": [
    "# convert datetime to string:\n",
    "dt.strftime('%m/%d/%Y %H:%M')"
   ]
  },
  {
   "cell_type": "code",
   "execution_count": 24,
   "id": "70612e7f",
   "metadata": {},
   "outputs": [
    {
     "data": {
      "text/plain": [
       "datetime.datetime(2020, 3, 15, 0, 0)"
      ]
     },
     "execution_count": 24,
     "metadata": {},
     "output_type": "execute_result"
    }
   ],
   "source": [
    "# convert string to datetime:\n",
    "datetime.strptime('2020/03/15', '%Y/%m/%d')"
   ]
  },
  {
   "cell_type": "code",
   "execution_count": 26,
   "id": "ccf114c0",
   "metadata": {},
   "outputs": [
    {
     "data": {
      "text/plain": [
       "datetime.timedelta(days=2, seconds=6559)"
      ]
     },
     "execution_count": 26,
     "metadata": {},
     "output_type": "execute_result"
    }
   ],
   "source": [
    "# delta = the difference between two periods:\n",
    "dt2=datetime(2022, 3, 18, 22, 20, 0)\n",
    "delta=dt2-dt\n",
    "delta"
   ]
  },
  {
   "cell_type": "code",
   "execution_count": 34,
   "id": "4a4dae82",
   "metadata": {},
   "outputs": [
    {
     "data": {
      "text/plain": [
       "[('a', 0), ('b', 1), ('c', 2), ('d', 3)]"
      ]
     },
     "execution_count": 34,
     "metadata": {},
     "output_type": "execute_result"
    }
   ],
   "source": [
    "# unpacking tuple:\n",
    "a=['a', 'b', 'c', 'd']\n",
    "b=[0,1,2,3]\n",
    "tupl=zip(a,b)\n",
    "list(tupl)"
   ]
  },
  {
   "cell_type": "code",
   "execution_count": 46,
   "id": "c1622e77",
   "metadata": {},
   "outputs": [
    {
     "data": {
      "text/plain": [
       "['a', 'b', 'c', 'd']"
      ]
     },
     "execution_count": 46,
     "metadata": {},
     "output_type": "execute_result"
    }
   ],
   "source": [
    "j=[]\n",
    "i=[]\n",
    "for x, y in zip(a,b):\n",
    "#     print(x)\n",
    "    j.append(x)\n",
    "    i.append(y)\n",
    "    \n",
    "i\n",
    "j"
   ]
  },
  {
   "cell_type": "code",
   "execution_count": 47,
   "id": "313eb2b6",
   "metadata": {},
   "outputs": [
    {
     "data": {
      "text/plain": [
       "('s', 't', 'r', 'i', 'n', 'g')"
      ]
     },
     "execution_count": 47,
     "metadata": {},
     "output_type": "execute_result"
    }
   ],
   "source": [
    "x='string'\n",
    "tuple(x)"
   ]
  },
  {
   "cell_type": "code",
   "execution_count": 49,
   "id": "32fb22f5",
   "metadata": {},
   "outputs": [
    {
     "data": {
      "text/plain": [
       "('xxx', [1, 2, 3, 4], True)"
      ]
     },
     "execution_count": 49,
     "metadata": {},
     "output_type": "execute_result"
    }
   ],
   "source": [
    "# tuple is inmutable, but If an object inside a tuple is mutable, such as a list, you can modify it in-place:\n",
    "y=tuple(('xxx', [1,2,3], True))\n",
    "y[1].append(4)\n",
    "y"
   ]
  },
  {
   "cell_type": "markdown",
   "id": "0a6d6c95",
   "metadata": {},
   "source": [
    "Checking whether a list contains a value is a lot slower than doing so with dicts and sets, as Python makes a linear scan across the values of the list, whereas it can check the others (based on hash tables) in constant time.\n",
    "\n",
    "extend vs concatenate:\n",
    "concatenation - is more expensive, "
   ]
  },
  {
   "cell_type": "code",
   "execution_count": 51,
   "id": "1a2ddef6",
   "metadata": {},
   "outputs": [
    {
     "data": {
      "text/plain": [
       "[(1, 'a'), (2, 'b'), (3, 'c'), (4, 'd')]"
      ]
     },
     "execution_count": 51,
     "metadata": {},
     "output_type": "execute_result"
    }
   ],
   "source": [
    "# zip can take an arbitrary number of sequences, and the number of elements it produces is determined by the shortest sequence:\n",
    "a=(1,2,3,4,5)\n",
    "b=(\"a\", \"b\", \"c\", \"d\")\n",
    "zipped_a_b=zip(a,b)\n",
    "list(zipped_a_b)"
   ]
  },
  {
   "cell_type": "code",
   "execution_count": 64,
   "id": "cab3b02e",
   "metadata": {},
   "outputs": [
    {
     "name": "stdout",
     "output_type": "stream",
     "text": [
      "True\n"
     ]
    },
    {
     "data": {
      "text/plain": [
       "{'a': ['apple', 'atom'], 'b': ['bat', 'bar', 'book'], 'd': ['dog']}"
      ]
     },
     "execution_count": 64,
     "metadata": {},
     "output_type": "execute_result"
    }
   ],
   "source": [
    "# creating dictionary depending on the first letter - 3 ways:\n",
    "words = ['apple', 'bat', 'bar', 'atom', 'book', 'dog']\n",
    "letters1={}\n",
    "letters2={}\n",
    "\n",
    "for word in words:\n",
    "    letter=word[0]\n",
    "    if letter not in letters1:\n",
    "        letters1[letter]=[word]\n",
    "    else:\n",
    "        letters1[letter].append(word)       \n",
    "\n",
    "# or using setdefault method:\n",
    "for word in words:\n",
    "    letter=word[0]\n",
    "    letters2.setdefault(letter, []).append(word)\n",
    "\n",
    "# or using defaultdict method - as an argument is passed type or function for generating the default value for each slot \n",
    "# in the dict:\n",
    "from collections import defaultdict\n",
    "\n",
    "letters3=defaultdict(list)\n",
    "for word in words:\n",
    "    letters3[word[0]].append(word)\n",
    "    \n",
    "print(letters1==letters2==letters3)\n",
    "letters1"
   ]
  },
  {
   "cell_type": "code",
   "execution_count": 65,
   "id": "b64f6ce8",
   "metadata": {},
   "outputs": [
    {
     "data": {
      "text/plain": [
       "3794340727080330424"
      ]
     },
     "execution_count": 65,
     "metadata": {},
     "output_type": "execute_result"
    }
   ],
   "source": [
    "# in a dictionary keys must be hashable = immutable object - using hash function:\n",
    "hash((1,2,(3,4)))"
   ]
  },
  {
   "cell_type": "code",
   "execution_count": 67,
   "id": "bc7b2d20",
   "metadata": {},
   "outputs": [
    {
     "name": "stdout",
     "output_type": "stream",
     "text": [
      "Type is mutable hence hash function does not work\n"
     ]
    }
   ],
   "source": [
    "try:\n",
    "    hash((1,2,[3,4]))\n",
    "except (TypeError):\n",
    "    print('Type is mutable hence hash function does not work')\n",
    "    \n",
    "# to use list as a key - first must be converted into tuple"
   ]
  },
  {
   "cell_type": "code",
   "execution_count": 70,
   "id": "6773f915",
   "metadata": {},
   "outputs": [
    {
     "name": "stdout",
     "output_type": "stream",
     "text": [
      "a={1, 2, 4, 5, 6}\n",
      "b={1, 2, 4, 5, 6}\n",
      "\"a\" is equal \"b\" - True\n"
     ]
    }
   ],
   "source": [
    "#set - is an unordered collection of unique elements, created by using set function or curly braces:\n",
    "a=set([1,2,2,4,5,5,1,1,6])\n",
    "b={1,2,2,4,5,5,1,1,6}\n",
    "print(f'a={a}\\nb={b}\\n\"a\" is equal \"b\" - {a==b}')"
   ]
  },
  {
   "cell_type": "code",
   "execution_count": 74,
   "id": "d8faf18f",
   "metadata": {},
   "outputs": [
    {
     "data": {
      "text/plain": [
       "{1, 3, 4, 5, 7, 8, 10}"
      ]
     },
     "execution_count": 74,
     "metadata": {},
     "output_type": "execute_result"
    }
   ],
   "source": [
    "# set supports operations like e.g. union, intersection, difference:\n",
    "x=set([5,5,4,7,7,7,3])\n",
    "y=set([10,1,1,4,4,4,8,5])\n",
    "x.union(y) # combines unique elements from each set"
   ]
  },
  {
   "cell_type": "code",
   "execution_count": 76,
   "id": "69176c6e",
   "metadata": {},
   "outputs": [
    {
     "data": {
      "text/plain": [
       "{4, 5}"
      ]
     },
     "execution_count": 76,
     "metadata": {},
     "output_type": "execute_result"
    }
   ],
   "source": [
    "# elements occuring in both sets:\n",
    "x.intersection(y) #or:\n",
    "x & y"
   ]
  },
  {
   "cell_type": "code",
   "execution_count": 77,
   "id": "3db59d7d",
   "metadata": {},
   "outputs": [
    {
     "data": {
      "text/plain": [
       "False"
      ]
     },
     "execution_count": 77,
     "metadata": {},
     "output_type": "execute_result"
    }
   ],
   "source": [
    "# set -> issubset = is contained in another set or issuperset = contains all elements of another set\n",
    "a= set([1, 2, 3, 4, 5])\n",
    "a.issubset({1,2,3})"
   ]
  },
  {
   "cell_type": "code",
   "execution_count": 78,
   "id": "fa4357eb",
   "metadata": {},
   "outputs": [
    {
     "data": {
      "text/plain": [
       "True"
      ]
     },
     "execution_count": 78,
     "metadata": {},
     "output_type": "execute_result"
    }
   ],
   "source": [
    "({1,2,3}).issubset(a)"
   ]
  },
  {
   "cell_type": "code",
   "execution_count": 79,
   "id": "1ba816cb",
   "metadata": {},
   "outputs": [
    {
     "data": {
      "text/plain": [
       "True"
      ]
     },
     "execution_count": 79,
     "metadata": {},
     "output_type": "execute_result"
    }
   ],
   "source": [
    "a.issuperset({1,2,3}) # a contains all: 1,2 and 3"
   ]
  },
  {
   "cell_type": "code",
   "execution_count": 85,
   "id": "d63bb34c",
   "metadata": {},
   "outputs": [
    {
     "data": {
      "text/plain": [
       "['Maria', 'Natalia']"
      ]
     },
     "execution_count": 85,
     "metadata": {},
     "output_type": "execute_result"
    }
   ],
   "source": [
    "# list of lists , 2 for loops:\n",
    "all_data = [['John', 'Emily', 'Michael', 'Mary', 'Steven'],\n",
    "            ['Maria', 'Juan', 'Javier', 'Natalia', 'Pilar']]\n",
    "\n",
    "desired_list=[]\n",
    "for names in all_data:\n",
    "    [desired_list.append(name) for name in names if name.count('a')>=2] \n",
    "\n",
    "desired_list"
   ]
  },
  {
   "cell_type": "code",
   "execution_count": 87,
   "id": "ee2fa047",
   "metadata": {},
   "outputs": [
    {
     "data": {
      "text/plain": [
       "['Maria', 'Natalia']"
      ]
     },
     "execution_count": 87,
     "metadata": {},
     "output_type": "execute_result"
    }
   ],
   "source": [
    "# shorter form:\n",
    "result=[name for names in all_data for name in names if name.count('a')>=2]\n",
    "result"
   ]
  },
  {
   "cell_type": "code",
   "execution_count": 88,
   "id": "c0b92e63",
   "metadata": {},
   "outputs": [
    {
     "data": {
      "text/plain": [
       "[1, 2, 3, 4, 5, 6, 7, 8, 9]"
      ]
     },
     "execution_count": 88,
     "metadata": {},
     "output_type": "execute_result"
    }
   ],
   "source": [
    "# flatten tuples:\n",
    "some_tuples = [(1, 2, 3), (4, 5, 6), (7, 8, 9)]\n",
    "flatten=[x for tup in some_tuples for x in tup]\n",
    "flatten"
   ]
  },
  {
   "cell_type": "code",
   "execution_count": 89,
   "id": "5d7b52cc",
   "metadata": {},
   "outputs": [
    {
     "data": {
      "text/plain": [
       "[[1, 2, 3], [4, 5, 6], [7, 8, 9]]"
      ]
     },
     "execution_count": 89,
     "metadata": {},
     "output_type": "execute_result"
    }
   ],
   "source": [
    "# nested list:\n",
    "nested=[[x for x in tup] for tup in some_tuples]\n",
    "nested"
   ]
  },
  {
   "cell_type": "code",
   "execution_count": 100,
   "id": "832b1f24",
   "metadata": {},
   "outputs": [
    {
     "data": {
      "text/plain": [
       "['Alabama',\n",
       " 'Georgia',\n",
       " 'Georgia',\n",
       " 'Georgia',\n",
       " 'Florida',\n",
       " 'South Carolina',\n",
       " 'West Virginia']"
      ]
     },
     "execution_count": 100,
     "metadata": {},
     "output_type": "execute_result"
    }
   ],
   "source": [
    "# function to clean list of strings:\n",
    "import re # module ReGex \n",
    "\n",
    "states = [' Alabama ', 'Georgia!', 'Georgia', 'georgia', 'FlOrIda', 'south carolina##', 'West virginia?']\n",
    "\n",
    "def clear_list(lista):\n",
    "    result=[]\n",
    "    for string in lista:\n",
    "        string=string.strip() # removing both the leading and the trailing characters (based on the string argument passed)\n",
    "        string=re.sub('[#?!]', '', string) # substitutes special characters\n",
    "        string=string.title() #uppercase first letter\n",
    "        result.append(string)\n",
    "    return result\n",
    "\n",
    "clear_list(states)"
   ]
  },
  {
   "cell_type": "code",
   "execution_count": 105,
   "id": "bd89391f",
   "metadata": {},
   "outputs": [
    {
     "name": "stdout",
     "output_type": "stream",
     "text": [
      "multipl function: 8\n",
      "lambda: 8\n"
     ]
    }
   ],
   "source": [
    "# ANONYMOUS = LAMBDA FUNCTIONS - writing functions consisting of a single statement, lambda keyword = function declaration\n",
    "\n",
    "def multipl(x):\n",
    "    return x*2\n",
    "\n",
    "# or with lambda:\n",
    "result=lambda x: x*2\n",
    "print(f'multipl function: {multipl(4)}\\nlambda: {result(4)}')"
   ]
  },
  {
   "cell_type": "code",
   "execution_count": 113,
   "id": "915c4f2a",
   "metadata": {},
   "outputs": [
    {
     "data": {
      "text/plain": [
       "['aaaa', 'foo', 'abab', 'bar', 'card']"
      ]
     },
     "execution_count": 113,
     "metadata": {},
     "output_type": "execute_result"
    }
   ],
   "source": [
    "# sort a collection of strings by the number of distinct letters in each string:\n",
    "strings = ['foo', 'card', 'bar', 'aaaa', 'abab']\n",
    "strings.sort(key= lambda x: len(set(list(x))))\n",
    "strings"
   ]
  },
  {
   "cell_type": "code",
   "execution_count": null,
   "id": "17eb4387",
   "metadata": {},
   "outputs": [],
   "source": [
    "# opening file - When you use open to create file objects, it is important to explicitly close the file when you are finished\n",
    "# with it. Closing the file releases its resources back to the operating system:\n",
    "\n",
    "f=open(path)\n",
    "for line in f:\n",
    "    ...\n",
    "\n",
    "f.close()\n",
    "\n",
    "# writing 'with' - will automatically close opened file when exiting the with block\n",
    "with open(path) as f:\n",
    "    line=[x.rstrip() for x in f]"
   ]
  },
  {
   "cell_type": "code",
   "execution_count": 116,
   "id": "cc926854",
   "metadata": {},
   "outputs": [
    {
     "data": {
      "text/plain": [
       "array([0., 1., 2., 3., 4., 5., 6., 7., 8., 9.])"
      ]
     },
     "execution_count": 116,
     "metadata": {},
     "output_type": "execute_result"
    }
   ],
   "source": [
    "# ***********************************************NUMPY:\n",
    "import numpy as np\n",
    "\n",
    "arr=np.arange(10)\n",
    "arr.astype('float') # creates new array"
   ]
  },
  {
   "cell_type": "code",
   "execution_count": 117,
   "id": "ad790eea",
   "metadata": {},
   "outputs": [
    {
     "data": {
      "text/plain": [
       "array([  0,   1,   2,   3,   4, 100, 100, 100,   8,   9])"
      ]
     },
     "execution_count": 117,
     "metadata": {},
     "output_type": "execute_result"
    }
   ],
   "source": [
    "# any modification to the array slices are performed on the original array; if should be made on its copy - the copy() method\n",
    "# must be explicitly used:\n",
    "arr=np.arange(10)\n",
    "arr[5:8]=100\n",
    "arr"
   ]
  },
  {
   "cell_type": "code",
   "execution_count": 129,
   "id": "e36e41bd",
   "metadata": {},
   "outputs": [],
   "source": [
    "arr=np.arange(12).reshape(3,4)"
   ]
  },
  {
   "cell_type": "code",
   "execution_count": 134,
   "id": "70a4024e",
   "metadata": {},
   "outputs": [
    {
     "data": {
      "text/plain": [
       "array([[-0.34971444, -0.51202619, -0.62722379, -0.53842864],\n",
       "       [ 0.06941134,  0.14198311, -1.39175588,  0.48052904]])"
      ]
     },
     "execution_count": 134,
     "metadata": {},
     "output_type": "execute_result"
    }
   ],
   "source": [
    "arr=np.array(['Bob', 'Joe', 'Will', 'Bob', 'Will', 'Joe', 'Joe']) # size important!\n",
    "mask=arr=='Bob'\n",
    "mask\n",
    "\n",
    "arr2=np.random.randn(7,4)\n",
    "arr2[mask] # returned first and fourth row, where name ='Bob' so was True"
   ]
  },
  {
   "cell_type": "code",
   "execution_count": 139,
   "id": "25e70e77",
   "metadata": {},
   "outputs": [
    {
     "data": {
      "text/plain": [
       "array([[0., 0., 0., 0.],\n",
       "       [1., 1., 1., 1.],\n",
       "       [2., 2., 2., 2.],\n",
       "       [3., 3., 3., 3.],\n",
       "       [4., 4., 4., 4.],\n",
       "       [5., 5., 5., 5.],\n",
       "       [6., 6., 6., 6.],\n",
       "       [7., 7., 7., 7.]])"
      ]
     },
     "execution_count": 139,
     "metadata": {},
     "output_type": "execute_result"
    }
   ],
   "source": [
    "x= np.empty((8,4))\n",
    "for i in range(8):\n",
    "    x[i]=i\n",
    "x"
   ]
  },
  {
   "cell_type": "code",
   "execution_count": 140,
   "id": "bb91476b",
   "metadata": {},
   "outputs": [
    {
     "data": {
      "text/plain": [
       "array([[3., 3., 3., 3.],\n",
       "       [2., 2., 2., 2.],\n",
       "       [1., 1., 1., 1.],\n",
       "       [4., 4., 4., 4.]])"
      ]
     },
     "execution_count": 140,
     "metadata": {},
     "output_type": "execute_result"
    }
   ],
   "source": [
    "# fancy indexing - indexing by numpy array\n",
    "x[[3,2,1,4]]\n",
    "\n"
   ]
  },
  {
   "cell_type": "code",
   "execution_count": 147,
   "id": "dec36cac",
   "metadata": {},
   "outputs": [
    {
     "data": {
      "text/plain": [
       "array([[-1.07463763,  0.57837833, -0.59195422],\n",
       "       [ 0.81506038,  2.22786094,  1.02957917],\n",
       "       [-0.08427387, -0.16771877,  2.0505956 ],\n",
       "       [-1.98426804,  1.20041315,  0.70435987]])"
      ]
     },
     "execution_count": 147,
     "metadata": {},
     "output_type": "execute_result"
    }
   ],
   "source": [
    "# transposition:\n",
    "x=np.random.randn(3,4)\n",
    "x.T"
   ]
  },
  {
   "cell_type": "code",
   "execution_count": 156,
   "id": "158c9f91",
   "metadata": {},
   "outputs": [
    {
     "name": "stdout",
     "output_type": "stream",
     "text": [
      "[4.39050803 5.72151493 4.82210701 4.35906546 3.38923839 5.1671529\n",
      " 3.50069769]\n",
      "[0.39050803 0.72151493 0.82210701 0.35906546 0.38923839 0.1671529\n",
      " 0.50069769]\n"
     ]
    }
   ],
   "source": [
    "# UNIVERSAL FUNCTIONS = UFUNC -> function that performs element wise operations on data in ndarrays:\n",
    "rng=np.random.RandomState(0)\n",
    "x=rng.rand(7)*8\n",
    "reminder, whole_part=np.modf(x) # splits array on two separate arrays with reminder and whole number)\n",
    "print(x)\n",
    "print(reminder)"
   ]
  },
  {
   "cell_type": "code",
   "execution_count": 170,
   "id": "cd4f4b2b",
   "metadata": {},
   "outputs": [
    {
     "data": {
      "text/plain": [
       "array([[-2,  2,  2,  2],\n",
       "       [ 2, -2,  2, -2],\n",
       "       [ 2,  2, -2, -2],\n",
       "       [ 2, -2, -2, -2]])"
      ]
     },
     "execution_count": 170,
     "metadata": {},
     "output_type": "execute_result"
    }
   ],
   "source": [
    "# np.where(condition, if true, else)\n",
    "# rapleacing randomly generated values with 2 if positive and -2 if negative:\n",
    "rng=np.random.RandomState()\n",
    "arr=rng.randn(4,4)\n",
    "arr\n",
    "arr>0\n",
    "np.where(arr>0, 2, -2)"
   ]
  },
  {
   "cell_type": "code",
   "execution_count": 172,
   "id": "f1054408",
   "metadata": {},
   "outputs": [
    {
     "data": {
      "text/plain": [
       "array([[-0.75374622,  2.        ,  2.        ,  2.        ],\n",
       "       [ 2.        , -1.83417178,  2.        , -0.38012268],\n",
       "       [ 2.        ,  2.        , -0.68190306, -0.19362472],\n",
       "       [ 2.        , -0.35386311, -0.61164784, -1.43289116]])"
      ]
     },
     "execution_count": 172,
     "metadata": {},
     "output_type": "execute_result"
    }
   ],
   "source": [
    "# set only positive values to 2:\n",
    "np.where(arr>0, 2, arr)\n"
   ]
  },
  {
   "cell_type": "code",
   "execution_count": 175,
   "id": "0573a8fe",
   "metadata": {},
   "outputs": [
    {
     "data": {
      "text/plain": [
       "array([[-0.86796183, -0.49490246,  0.46722158,  2.4200652 ],\n",
       "       [-1.3174524 , -1.19323749, -0.41366129,  0.75021563],\n",
       "       [-0.08439281,  0.41342227,  0.88874248,  1.82968623]])"
      ]
     },
     "execution_count": 175,
     "metadata": {},
     "output_type": "execute_result"
    }
   ],
   "source": [
    "arr=rng.randn(3,4)\n",
    "arr.sort(1) # sorted copy of an array, 1 = along columns\n",
    "arr"
   ]
  },
  {
   "cell_type": "code",
   "execution_count": 177,
   "id": "830b3fea",
   "metadata": {},
   "outputs": [
    {
     "data": {
      "text/plain": [
       "['Bob', 'Joe', 'Will']"
      ]
     },
     "execution_count": 177,
     "metadata": {},
     "output_type": "execute_result"
    }
   ],
   "source": [
    "# np.unique() = sorted(set())\n",
    "\n",
    "names = np.array(['Bob', 'Joe', 'Will', 'Bob', 'Will', 'Joe', 'Joe'])\n",
    "np.unique(names)\n",
    "sorted(set(names))"
   ]
  },
  {
   "cell_type": "code",
   "execution_count": 179,
   "id": "f907ff23",
   "metadata": {},
   "outputs": [
    {
     "data": {
      "text/plain": [
       "array([0, 1, 2, 3, 4, 5, 6, 7, 8, 9])"
      ]
     },
     "execution_count": 179,
     "metadata": {},
     "output_type": "execute_result"
    }
   ],
   "source": [
    "# saving and loading arrays:\n",
    "arr=np.arange(10)\n",
    "\n",
    "np.save('array', arr)\n",
    "np.load('array.npy')"
   ]
  },
  {
   "cell_type": "code",
   "execution_count": 180,
   "id": "8279a3c5",
   "metadata": {},
   "outputs": [
    {
     "data": {
      "text/plain": [
       "array([[37, 40],\n",
       "       [85, 92]])"
      ]
     },
     "execution_count": 180,
     "metadata": {},
     "output_type": "execute_result"
    }
   ],
   "source": [
    "# dot - multiplies arrays:\n",
    "a = np.array([[1,2],[3,4]]) \n",
    "b = np.array([[11,12],[13,14]]) \n",
    "np.dot(a,b)\n",
    "# [[1*11+2*13, 1*12+2*14],[3*11+4*13, 3*12+4*14]]"
   ]
  },
  {
   "cell_type": "code",
   "execution_count": 182,
   "id": "22f64a40",
   "metadata": {},
   "outputs": [
    {
     "data": {
      "text/plain": [
       "array([3., 7.])"
      ]
     },
     "execution_count": 182,
     "metadata": {},
     "output_type": "execute_result"
    }
   ],
   "source": [
    "a.dot(np.ones(2))"
   ]
  },
  {
   "cell_type": "code",
   "execution_count": 189,
   "id": "8d350e58",
   "metadata": {},
   "outputs": [
    {
     "data": {
      "text/plain": [
       "array([[0., 1., 2., 3., 4.],\n",
       "       [0., 1., 2., 3., 4.],\n",
       "       [0., 1., 2., 3., 4.],\n",
       "       [0., 1., 2., 3., 4.],\n",
       "       [0., 1., 2., 3., 4.]])"
      ]
     },
     "execution_count": 189,
     "metadata": {},
     "output_type": "execute_result"
    }
   ],
   "source": [
    "x= np.zeros((5, 5))\n",
    "x\n",
    "for i in range(5):\n",
    "    x[i]=i\n",
    "\n",
    "x.T"
   ]
  },
  {
   "cell_type": "code",
   "execution_count": 191,
   "id": "bccd9f31",
   "metadata": {},
   "outputs": [
    {
     "data": {
      "text/plain": [
       "10.0"
      ]
     },
     "execution_count": 191,
     "metadata": {},
     "output_type": "execute_result"
    }
   ],
   "source": [
    "x.trace() # returns the sum of the diagonal elements\n"
   ]
  },
  {
   "cell_type": "code",
   "execution_count": 194,
   "id": "9eefc1cc",
   "metadata": {},
   "outputs": [
    {
     "data": {
      "text/plain": [
       "[<matplotlib.lines.Line2D at 0x1fa43fb9640>]"
      ]
     },
     "execution_count": 194,
     "metadata": {},
     "output_type": "execute_result"
    },
    {
     "data": {
      "image/png": "[encoded data removed]",
      "text/plain": [
       "<Figure size 432x288 with 1 Axes>"
      ]
     },
     "metadata": {
      "needs_background": "light"
     },
     "output_type": "display_data"
    }
   ],
   "source": [
    "import matplotlib.pyplot as plt\n",
    "\n",
    "x=np.arange(1000)\n",
    "x=np.cumsum(x)\n",
    "\n",
    "plt.plot(x)"
   ]
  },
  {
   "cell_type": "code",
   "execution_count": 282,
   "id": "2d6557fc",
   "metadata": {},
   "outputs": [
    {
     "data": {
      "text/plain": [
       "[<matplotlib.lines.Line2D at 0x1fa43ffd430>]"
      ]
     },
     "execution_count": 282,
     "metadata": {},
     "output_type": "execute_result"
    },
    {
     "data": {
      "image/png": "[encoded data removed]",
      "text/plain": [
       "<Figure size 432x288 with 1 Axes>"
      ]
     },
     "metadata": {
      "needs_background": "light"
     },
     "output_type": "display_data"
    }
   ],
   "source": [
    "x=np.random.randint(0,2)\n",
    "\n",
    "position=0\n",
    "walk=[]\n",
    "\n",
    "for i in range(1000):\n",
    "    step=1 if np.random.randint(0,2) else -1\n",
    "    position+=step\n",
    "    walk.append(position)\n",
    "\n",
    "plt.plot(walk[:100])"
   ]
  },
  {
   "cell_type": "code",
   "execution_count": 291,
   "id": "8ba04ef2",
   "metadata": {},
   "outputs": [
    {
     "name": "stdout",
     "output_type": "stream",
     "text": [
      "Min: -5\n",
      "Max: 36\n"
     ]
    },
    {
     "data": {
      "image/png": "[encoded data removed]",
      "text/plain": [
       "<Figure size 432x288 with 1 Axes>"
      ]
     },
     "metadata": {
      "needs_background": "light"
     },
     "output_type": "display_data"
    }
   ],
   "source": [
    "# or:\n",
    "rng=np.random.RandomState(0)\n",
    "x=rng.randint(0,2, size=1000)\n",
    "x=np.where(x>0, 1, -1)\n",
    "x=np.cumsum(x)\n",
    "\n",
    "plt.plot(x)\n",
    "print(f'Min: {x.min()}\\nMax: {x.max()}')"
   ]
  },
  {
   "cell_type": "code",
   "execution_count": 294,
   "id": "f62624b9",
   "metadata": {},
   "outputs": [
    {
     "data": {
      "text/plain": [
       "a    1\n",
       "b    4\n",
       "c    5\n",
       "d    8\n",
       "e    2\n",
       "dtype: int64"
      ]
     },
     "execution_count": 294,
     "metadata": {},
     "output_type": "execute_result"
    }
   ],
   "source": [
    "#**************************************************PANDAS:\n",
    "import pandas as pd\n",
    "\n",
    "obj = pd.Series([1,4,5,8,2])\n",
    "obj.index=list(['a', 'b', 'c', 'd', 'e'])\n",
    "obj"
   ]
  },
  {
   "cell_type": "code",
   "execution_count": 295,
   "id": "32f6407f",
   "metadata": {},
   "outputs": [
    {
     "data": {
      "text/plain": [
       "c    5\n",
       "e    2\n",
       "dtype: int64"
      ]
     },
     "execution_count": 295,
     "metadata": {},
     "output_type": "execute_result"
    }
   ],
   "source": [
    "obj[['c', 'e']]"
   ]
  },
  {
   "cell_type": "code",
   "execution_count": 297,
   "id": "22150a1d",
   "metadata": {},
   "outputs": [
    {
     "data": {
      "text/plain": [
       "False"
      ]
     },
     "execution_count": 297,
     "metadata": {},
     "output_type": "execute_result"
    }
   ],
   "source": [
    "'b' in obj # True \n",
    "5 in obj # False (only index)"
   ]
  },
  {
   "cell_type": "code",
   "execution_count": 318,
   "id": "5a6c5a94",
   "metadata": {},
   "outputs": [
    {
     "data": {
      "text/plain": [
       "nr_indexu\n",
       "c    3.0\n",
       "d    4.0\n",
       "e    5.0\n",
       "f    NaN\n",
       "Name: wartosci, dtype: float64"
      ]
     },
     "execution_count": 318,
     "metadata": {},
     "output_type": "execute_result"
    }
   ],
   "source": [
    "d= dict({'a':1, 'b':2, 'c':3, 'd':4, 'e':5})\n",
    "i=['c', 'd', 'e', 'f']\n",
    "df2=pd.Series(d, index=i)\n",
    "df2.index.name='nr_indexu'\n",
    "df2.name='wartosci'\n",
    "df2"
   ]
  },
  {
   "cell_type": "code",
   "execution_count": 309,
   "id": "4d74d027",
   "metadata": {},
   "outputs": [
    {
     "data": {
      "text/html": [
       "<div>\n",
       "<style scoped>\n",
       "    .dataframe tbody tr th:only-of-type {\n",
       "        vertical-align: middle;\n",
       "    }\n",
       "\n",
       "    .dataframe tbody tr th {\n",
       "        vertical-align: top;\n",
       "    }\n",
       "\n",
       "    .dataframe thead th {\n",
       "        text-align: right;\n",
       "    }\n",
       "</style>\n",
       "<table border=\"1\" class=\"dataframe\">\n",
       "  <thead>\n",
       "    <tr style=\"text-align: right;\">\n",
       "      <th></th>\n",
       "      <th>state</th>\n",
       "      <th>year</th>\n",
       "      <th>pop</th>\n",
       "    </tr>\n",
       "  </thead>\n",
       "  <tbody>\n",
       "    <tr>\n",
       "      <th>0</th>\n",
       "      <td>Ohio</td>\n",
       "      <td>2000</td>\n",
       "      <td>1.5</td>\n",
       "    </tr>\n",
       "    <tr>\n",
       "      <th>1</th>\n",
       "      <td>Ohio</td>\n",
       "      <td>2001</td>\n",
       "      <td>1.7</td>\n",
       "    </tr>\n",
       "    <tr>\n",
       "      <th>2</th>\n",
       "      <td>Ohio</td>\n",
       "      <td>2002</td>\n",
       "      <td>3.6</td>\n",
       "    </tr>\n",
       "    <tr>\n",
       "      <th>3</th>\n",
       "      <td>Nevada</td>\n",
       "      <td>2001</td>\n",
       "      <td>2.4</td>\n",
       "    </tr>\n",
       "    <tr>\n",
       "      <th>4</th>\n",
       "      <td>Nevada</td>\n",
       "      <td>2002</td>\n",
       "      <td>2.9</td>\n",
       "    </tr>\n",
       "  </tbody>\n",
       "</table>\n",
       "</div>"
      ],
      "text/plain": [
       "    state  year  pop\n",
       "0    Ohio  2000  1.5\n",
       "1    Ohio  2001  1.7\n",
       "2    Ohio  2002  3.6\n",
       "3  Nevada  2001  2.4\n",
       "4  Nevada  2002  2.9"
      ]
     },
     "execution_count": 309,
     "metadata": {},
     "output_type": "execute_result"
    }
   ],
   "source": [
    "data = {'state': ['Ohio', 'Ohio', 'Ohio', 'Nevada', 'Nevada', 'Nevada'],\n",
    "'year': [2000, 2001, 2002, 2001, 2002, 2003],\n",
    "'pop': [1.5, 1.7, 3.6, 2.4, 2.9, 3.2]}\n",
    "df = pd.DataFrame(data)\n",
    "df.head()"
   ]
  },
  {
   "cell_type": "code",
   "execution_count": 312,
   "id": "180a0e67",
   "metadata": {},
   "outputs": [
    {
     "data": {
      "text/html": [
       "<div>\n",
       "<style scoped>\n",
       "    .dataframe tbody tr th:only-of-type {\n",
       "        vertical-align: middle;\n",
       "    }\n",
       "\n",
       "    .dataframe tbody tr th {\n",
       "        vertical-align: top;\n",
       "    }\n",
       "\n",
       "    .dataframe thead th {\n",
       "        text-align: right;\n",
       "    }\n",
       "</style>\n",
       "<table border=\"1\" class=\"dataframe\">\n",
       "  <thead>\n",
       "    <tr style=\"text-align: right;\">\n",
       "      <th></th>\n",
       "      <th>state</th>\n",
       "      <th>year</th>\n",
       "      <th>pop</th>\n",
       "      <th>month</th>\n",
       "    </tr>\n",
       "  </thead>\n",
       "  <tbody>\n",
       "    <tr>\n",
       "      <th>0</th>\n",
       "      <td>Ohio</td>\n",
       "      <td>2000</td>\n",
       "      <td>1.5</td>\n",
       "      <td>NaN</td>\n",
       "    </tr>\n",
       "    <tr>\n",
       "      <th>1</th>\n",
       "      <td>Ohio</td>\n",
       "      <td>2001</td>\n",
       "      <td>1.7</td>\n",
       "      <td>NaN</td>\n",
       "    </tr>\n",
       "    <tr>\n",
       "      <th>2</th>\n",
       "      <td>Ohio</td>\n",
       "      <td>2002</td>\n",
       "      <td>3.6</td>\n",
       "      <td>NaN</td>\n",
       "    </tr>\n",
       "    <tr>\n",
       "      <th>3</th>\n",
       "      <td>Nevada</td>\n",
       "      <td>2001</td>\n",
       "      <td>2.4</td>\n",
       "      <td>NaN</td>\n",
       "    </tr>\n",
       "    <tr>\n",
       "      <th>4</th>\n",
       "      <td>Nevada</td>\n",
       "      <td>2002</td>\n",
       "      <td>2.9</td>\n",
       "      <td>NaN</td>\n",
       "    </tr>\n",
       "  </tbody>\n",
       "</table>\n",
       "</div>"
      ],
      "text/plain": [
       "    state  year  pop month\n",
       "0    Ohio  2000  1.5   NaN\n",
       "1    Ohio  2001  1.7   NaN\n",
       "2    Ohio  2002  3.6   NaN\n",
       "3  Nevada  2001  2.4   NaN\n",
       "4  Nevada  2002  2.9   NaN"
      ]
     },
     "execution_count": 312,
     "metadata": {},
     "output_type": "execute_result"
    }
   ],
   "source": [
    "df = pd.DataFrame(data, columns=['state', 'year', 'pop', 'month'])\n",
    "df.head()"
   ]
  },
  {
   "cell_type": "code",
   "execution_count": 314,
   "id": "d85d4517",
   "metadata": {},
   "outputs": [
    {
     "data": {
      "text/html": [
       "<div>\n",
       "<style scoped>\n",
       "    .dataframe tbody tr th:only-of-type {\n",
       "        vertical-align: middle;\n",
       "    }\n",
       "\n",
       "    .dataframe tbody tr th {\n",
       "        vertical-align: top;\n",
       "    }\n",
       "\n",
       "    .dataframe thead th {\n",
       "        text-align: right;\n",
       "    }\n",
       "</style>\n",
       "<table border=\"1\" class=\"dataframe\">\n",
       "  <thead>\n",
       "    <tr style=\"text-align: right;\">\n",
       "      <th></th>\n",
       "      <th>state</th>\n",
       "      <th>year</th>\n",
       "      <th>pop</th>\n",
       "      <th>month</th>\n",
       "    </tr>\n",
       "  </thead>\n",
       "  <tbody>\n",
       "    <tr>\n",
       "      <th>0</th>\n",
       "      <td>Ohio</td>\n",
       "      <td>2000</td>\n",
       "      <td>1.5</td>\n",
       "      <td>0</td>\n",
       "    </tr>\n",
       "    <tr>\n",
       "      <th>1</th>\n",
       "      <td>Ohio</td>\n",
       "      <td>2001</td>\n",
       "      <td>1.7</td>\n",
       "      <td>1</td>\n",
       "    </tr>\n",
       "    <tr>\n",
       "      <th>2</th>\n",
       "      <td>Ohio</td>\n",
       "      <td>2002</td>\n",
       "      <td>3.6</td>\n",
       "      <td>2</td>\n",
       "    </tr>\n",
       "    <tr>\n",
       "      <th>3</th>\n",
       "      <td>Nevada</td>\n",
       "      <td>2001</td>\n",
       "      <td>2.4</td>\n",
       "      <td>3</td>\n",
       "    </tr>\n",
       "    <tr>\n",
       "      <th>4</th>\n",
       "      <td>Nevada</td>\n",
       "      <td>2002</td>\n",
       "      <td>2.9</td>\n",
       "      <td>4</td>\n",
       "    </tr>\n",
       "  </tbody>\n",
       "</table>\n",
       "</div>"
      ],
      "text/plain": [
       "    state  year  pop  month\n",
       "0    Ohio  2000  1.5      0\n",
       "1    Ohio  2001  1.7      1\n",
       "2    Ohio  2002  3.6      2\n",
       "3  Nevada  2001  2.4      3\n",
       "4  Nevada  2002  2.9      4"
      ]
     },
     "execution_count": 314,
     "metadata": {},
     "output_type": "execute_result"
    }
   ],
   "source": [
    "df.month=np.arange(len(df))\n",
    "df.head()"
   ]
  },
  {
   "cell_type": "code",
   "execution_count": 317,
   "id": "f976c302",
   "metadata": {},
   "outputs": [
    {
     "name": "stderr",
     "output_type": "stream",
     "text": [
      "C:\\Users\\jkaczmarek\\Anaconda3\\lib\\site-packages\\pandas\\core\\indexing.py:1637: SettingWithCopyWarning: \n",
      "A value is trying to be set on a copy of a slice from a DataFrame\n",
      "\n",
      "See the caveats in the documentation: https://pandas.pydata.org/pandas-docs/stable/user_guide/indexing.html#returning-a-view-versus-a-copy\n",
      "  self._setitem_single_block(indexer, value, name)\n"
     ]
    },
    {
     "data": {
      "text/html": [
       "<div>\n",
       "<style scoped>\n",
       "    .dataframe tbody tr th:only-of-type {\n",
       "        vertical-align: middle;\n",
       "    }\n",
       "\n",
       "    .dataframe tbody tr th {\n",
       "        vertical-align: top;\n",
       "    }\n",
       "\n",
       "    .dataframe thead th {\n",
       "        text-align: right;\n",
       "    }\n",
       "</style>\n",
       "<table border=\"1\" class=\"dataframe\">\n",
       "  <thead>\n",
       "    <tr style=\"text-align: right;\">\n",
       "      <th></th>\n",
       "      <th>state</th>\n",
       "      <th>year</th>\n",
       "      <th>pop</th>\n",
       "      <th>month</th>\n",
       "    </tr>\n",
       "  </thead>\n",
       "  <tbody>\n",
       "    <tr>\n",
       "      <th>0</th>\n",
       "      <td>Ohio</td>\n",
       "      <td>2000</td>\n",
       "      <td>1.5</td>\n",
       "      <td>xxx</td>\n",
       "    </tr>\n",
       "    <tr>\n",
       "      <th>1</th>\n",
       "      <td>Ohio</td>\n",
       "      <td>2001</td>\n",
       "      <td>1.7</td>\n",
       "      <td>1</td>\n",
       "    </tr>\n",
       "    <tr>\n",
       "      <th>2</th>\n",
       "      <td>Ohio</td>\n",
       "      <td>2002</td>\n",
       "      <td>3.6</td>\n",
       "      <td>xxx</td>\n",
       "    </tr>\n",
       "    <tr>\n",
       "      <th>3</th>\n",
       "      <td>Nevada</td>\n",
       "      <td>2001</td>\n",
       "      <td>2.4</td>\n",
       "      <td>3</td>\n",
       "    </tr>\n",
       "    <tr>\n",
       "      <th>4</th>\n",
       "      <td>Nevada</td>\n",
       "      <td>2002</td>\n",
       "      <td>2.9</td>\n",
       "      <td>xxx</td>\n",
       "    </tr>\n",
       "    <tr>\n",
       "      <th>5</th>\n",
       "      <td>Nevada</td>\n",
       "      <td>2003</td>\n",
       "      <td>3.2</td>\n",
       "      <td>5</td>\n",
       "    </tr>\n",
       "  </tbody>\n",
       "</table>\n",
       "</div>"
      ],
      "text/plain": [
       "    state  year  pop month\n",
       "0    Ohio  2000  1.5   xxx\n",
       "1    Ohio  2001  1.7     1\n",
       "2    Ohio  2002  3.6   xxx\n",
       "3  Nevada  2001  2.4     3\n",
       "4  Nevada  2002  2.9   xxx\n",
       "5  Nevada  2003  3.2     5"
      ]
     },
     "execution_count": 317,
     "metadata": {},
     "output_type": "execute_result"
    }
   ],
   "source": [
    "df.month.iloc[::2]='xxx'\n",
    "df"
   ]
  },
  {
   "cell_type": "code",
   "execution_count": 320,
   "id": "adc05317",
   "metadata": {},
   "outputs": [
    {
     "data": {
      "text/plain": [
       "nr_indexu\n",
       "c    0\n",
       "d    2\n",
       "e    4\n",
       "f    6\n",
       "dtype: int64"
      ]
     },
     "execution_count": 320,
     "metadata": {},
     "output_type": "execute_result"
    }
   ],
   "source": [
    "# sharing index:\n",
    "label=df2.index\n",
    "label\n",
    "df3=pd.Series([0,2,4,6], index=label)\n",
    "df3"
   ]
  },
  {
   "cell_type": "code",
   "execution_count": null,
   "id": "cac654c4",
   "metadata": {},
   "outputs": [],
   "source": []
  }
 ],
 "metadata": {
  "kernelspec": {
   "display_name": "Python 3",
   "language": "python",
   "name": "python3"
  },
  "language_info": {
   "codemirror_mode": {
    "name": "ipython",
    "version": 3
   },
   "file_extension": ".py",
   "mimetype": "text/x-python",
   "name": "python",
   "nbconvert_exporter": "python",
   "pygments_lexer": "ipython3",
   "version": "3.8.8"
  }
 },
 "nbformat": 4,
 "nbformat_minor": 5
}
