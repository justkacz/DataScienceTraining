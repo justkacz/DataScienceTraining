{
 "cells": [
  {
   "cell_type": "code",
   "execution_count": 1,
   "id": "e502beca",
   "metadata": {},
   "outputs": [
    {
     "data": {
      "text/plain": [
       "True"
      ]
     },
     "execution_count": 1,
     "metadata": {},
     "output_type": "execute_result"
    }
   ],
   "source": [
    "a=5\n",
    "isinstance(a, int)"
   ]
  },
  {
   "cell_type": "code",
   "execution_count": 8,
   "id": "69227ee3",
   "metadata": {},
   "outputs": [
    {
     "data": {
      "text/plain": [
       "<list_iterator at 0x1fa3f84f3a0>"
      ]
     },
     "execution_count": 8,
     "metadata": {},
     "output_type": "execute_result"
    }
   ],
   "source": [
    "a=[1,2,3]\n",
    "iter(a)\n"
   ]
  },
  {
   "cell_type": "code",
   "execution_count": 16,
   "id": "159e63ff",
   "metadata": {},
   "outputs": [
    {
     "data": {
      "text/plain": [
       "2"
      ]
     },
     "execution_count": 16,
     "metadata": {},
     "output_type": "execute_result"
    }
   ],
   "source": [
    "from datetime import datetime, date, time\n",
    "\n",
    "dt=datetime(2022, 3, 16, 20, 30, 41)\n",
    "dt.weekday()"
   ]
  },
  {
   "cell_type": "code",
   "execution_count": 17,
   "id": "f50b05e7",
   "metadata": {},
   "outputs": [
    {
     "data": {
      "text/plain": [
       "datetime.time(20, 30, 41)"
      ]
     },
     "execution_count": 17,
     "metadata": {},
     "output_type": "execute_result"
    }
   ],
   "source": [
    "dt.time()"
   ]
  },
  {
   "cell_type": "code",
   "execution_count": 20,
   "id": "1afc9dd3",
   "metadata": {},
   "outputs": [
    {
     "data": {
      "text/plain": [
       "'03/16/2022 20:30'"
      ]
     },
     "execution_count": 20,
     "metadata": {},
     "output_type": "execute_result"
    }
   ],
   "source": [
    "# convert datetime to string:\n",
    "dt.strftime('%m/%d/%Y %H:%M')"
   ]
  },
  {
   "cell_type": "code",
   "execution_count": 24,
   "id": "eb965615",
   "metadata": {},
   "outputs": [
    {
     "data": {
      "text/plain": [
       "datetime.datetime(2020, 3, 15, 0, 0)"
      ]
     },
     "execution_count": 24,
     "metadata": {},
     "output_type": "execute_result"
    }
   ],
   "source": [
    "# convert string to datetime:\n",
    "datetime.strptime('2020/03/15', '%Y/%m/%d')"
   ]
  },
  {
   "cell_type": "code",
   "execution_count": 26,
   "id": "8e48c08e",
   "metadata": {},
   "outputs": [
    {
     "data": {
      "text/plain": [
       "datetime.timedelta(days=2, seconds=6559)"
      ]
     },
     "execution_count": 26,
     "metadata": {},
     "output_type": "execute_result"
    }
   ],
   "source": [
    "# delta = the difference between two periods:\n",
    "dt2=datetime(2022, 3, 18, 22, 20, 0)\n",
    "delta=dt2-dt\n",
    "delta"
   ]
  },
  {
   "cell_type": "code",
   "execution_count": 34,
   "id": "d750b942",
   "metadata": {},
   "outputs": [
    {
     "data": {
      "text/plain": [
       "[('a', 0), ('b', 1), ('c', 2), ('d', 3)]"
      ]
     },
     "execution_count": 34,
     "metadata": {},
     "output_type": "execute_result"
    }
   ],
   "source": [
    "# unpacking tuple:\n",
    "a=['a', 'b', 'c', 'd']\n",
    "b=[0,1,2,3]\n",
    "tupl=zip(a,b)\n",
    "list(tupl)"
   ]
  },
  {
   "cell_type": "code",
   "execution_count": 46,
   "id": "09778912",
   "metadata": {},
   "outputs": [
    {
     "data": {
      "text/plain": [
       "['a', 'b', 'c', 'd']"
      ]
     },
     "execution_count": 46,
     "metadata": {},
     "output_type": "execute_result"
    }
   ],
   "source": [
    "j=[]\n",
    "i=[]\n",
    "for x, y in zip(a,b):\n",
    "#     print(x)\n",
    "    j.append(x)\n",
    "    i.append(y)\n",
    "    \n",
    "i\n",
    "j"
   ]
  },
  {
   "cell_type": "code",
   "execution_count": 47,
   "id": "c0a98f1a",
   "metadata": {},
   "outputs": [
    {
     "data": {
      "text/plain": [
       "('s', 't', 'r', 'i', 'n', 'g')"
      ]
     },
     "execution_count": 47,
     "metadata": {},
     "output_type": "execute_result"
    }
   ],
   "source": [
    "x='string'\n",
    "tuple(x)"
   ]
  },
  {
   "cell_type": "code",
   "execution_count": 49,
   "id": "e8f99693",
   "metadata": {},
   "outputs": [
    {
     "data": {
      "text/plain": [
       "('xxx', [1, 2, 3, 4], True)"
      ]
     },
     "execution_count": 49,
     "metadata": {},
     "output_type": "execute_result"
    }
   ],
   "source": [
    "# tuple is inmutable, but If an object inside a tuple is mutable, such as a list, you can modify it in-place:\n",
    "y=tuple(('xxx', [1,2,3], True))\n",
    "y[1].append(4)\n",
    "y"
   ]
  },
  {
   "cell_type": "markdown",
   "id": "d5cf0685",
   "metadata": {},
   "source": [
    "Checking whether a list contains a value is a lot slower than doing so with dicts and sets, as Python makes a linear scan across the values of the list, whereas it can check the others (based on hash tables) in constant time.\n",
    "\n",
    "extend vs concatenate:\n",
    "concatenation - is more expensive, "
   ]
  },
  {
   "cell_type": "code",
   "execution_count": 51,
   "id": "4ae2c711",
   "metadata": {},
   "outputs": [
    {
     "data": {
      "text/plain": [
       "[(1, 'a'), (2, 'b'), (3, 'c'), (4, 'd')]"
      ]
     },
     "execution_count": 51,
     "metadata": {},
     "output_type": "execute_result"
    }
   ],
   "source": [
    "# zip can take an arbitrary number of sequences, and the number of elements it produces is determined by the shortest sequence:\n",
    "a=(1,2,3,4,5)\n",
    "b=(\"a\", \"b\", \"c\", \"d\")\n",
    "zipped_a_b=zip(a,b)\n",
    "list(zipped_a_b)"
   ]
  },
  {
   "cell_type": "code",
   "execution_count": 64,
   "id": "197db00a",
   "metadata": {},
   "outputs": [
    {
     "name": "stdout",
     "output_type": "stream",
     "text": [
      "True\n"
     ]
    },
    {
     "data": {
      "text/plain": [
       "{'a': ['apple', 'atom'], 'b': ['bat', 'bar', 'book'], 'd': ['dog']}"
      ]
     },
     "execution_count": 64,
     "metadata": {},
     "output_type": "execute_result"
    }
   ],
   "source": [
    "# creating dictionary depending on the first letter - 3 ways:\n",
    "words = ['apple', 'bat', 'bar', 'atom', 'book', 'dog']\n",
    "letters1={}\n",
    "letters2={}\n",
    "\n",
    "for word in words:\n",
    "    letter=word[0]\n",
    "    if letter not in letters1:\n",
    "        letters1[letter]=[word]\n",
    "    else:\n",
    "        letters1[letter].append(word)       \n",
    "\n",
    "# or using setdefault method:\n",
    "for word in words:\n",
    "    letter=word[0]\n",
    "    letters2.setdefault(letter, []).append(word)\n",
    "\n",
    "# or using defaultdict method - as an argument is passed type or function for generating the default value for each slot \n",
    "# in the dict:\n",
    "from collections import defaultdict\n",
    "\n",
    "letters3=defaultdict(list)\n",
    "for word in words:\n",
    "    letters3[word[0]].append(word)\n",
    "    \n",
    "print(letters1==letters2==letters3)\n",
    "letters1"
   ]
  },
  {
   "cell_type": "code",
   "execution_count": 65,
   "id": "cf6d7b87",
   "metadata": {},
   "outputs": [
    {
     "data": {
      "text/plain": [
       "3794340727080330424"
      ]
     },
     "execution_count": 65,
     "metadata": {},
     "output_type": "execute_result"
    }
   ],
   "source": [
    "# in a dictionary keys must be hashable = immutable object - using hash function:\n",
    "hash((1,2,(3,4)))"
   ]
  },
  {
   "cell_type": "code",
   "execution_count": 67,
   "id": "79bfde8f",
   "metadata": {},
   "outputs": [
    {
     "name": "stdout",
     "output_type": "stream",
     "text": [
      "Type is mutable hence hash function does not work\n"
     ]
    }
   ],
   "source": [
    "try:\n",
    "    hash((1,2,[3,4]))\n",
    "except (TypeError):\n",
    "    print('Type is mutable hence hash function does not work')\n",
    "    \n",
    "# to use list as a key - first must be converted into tuple"
   ]
  },
  {
   "cell_type": "code",
   "execution_count": 70,
   "id": "d2513278",
   "metadata": {},
   "outputs": [
    {
     "name": "stdout",
     "output_type": "stream",
     "text": [
      "a={1, 2, 4, 5, 6}\n",
      "b={1, 2, 4, 5, 6}\n",
      "\"a\" is equal \"b\" - True\n"
     ]
    }
   ],
   "source": [
    "#set - is an unordered collection of unique elements, created by using set function or curly braces:\n",
    "a=set([1,2,2,4,5,5,1,1,6])\n",
    "b={1,2,2,4,5,5,1,1,6}\n",
    "print(f'a={a}\\nb={b}\\n\"a\" is equal \"b\" - {a==b}')"
   ]
  },
  {
   "cell_type": "code",
   "execution_count": 74,
   "id": "d973522b",
   "metadata": {},
   "outputs": [
    {
     "data": {
      "text/plain": [
       "{1, 3, 4, 5, 7, 8, 10}"
      ]
     },
     "execution_count": 74,
     "metadata": {},
     "output_type": "execute_result"
    }
   ],
   "source": [
    "# set supports operations like e.g. union, intersection, difference:\n",
    "x=set([5,5,4,7,7,7,3])\n",
    "y=set([10,1,1,4,4,4,8,5])\n",
    "x.union(y) # combines unique elements from each set"
   ]
  },
  {
   "cell_type": "code",
   "execution_count": 76,
   "id": "afdc06ec",
   "metadata": {},
   "outputs": [
    {
     "data": {
      "text/plain": [
       "{4, 5}"
      ]
     },
     "execution_count": 76,
     "metadata": {},
     "output_type": "execute_result"
    }
   ],
   "source": [
    "# elements occuring in both sets:\n",
    "x.intersection(y) #or:\n",
    "x & y"
   ]
  },
  {
   "cell_type": "code",
   "execution_count": 77,
   "id": "459e2f85",
   "metadata": {},
   "outputs": [
    {
     "data": {
      "text/plain": [
       "False"
      ]
     },
     "execution_count": 77,
     "metadata": {},
     "output_type": "execute_result"
    }
   ],
   "source": [
    "# set -> issubset = is contained in another set or issuperset = contains all elements of another set\n",
    "a= set([1, 2, 3, 4, 5])\n",
    "a.issubset({1,2,3})"
   ]
  },
  {
   "cell_type": "code",
   "execution_count": 78,
   "id": "9b4334a9",
   "metadata": {},
   "outputs": [
    {
     "data": {
      "text/plain": [
       "True"
      ]
     },
     "execution_count": 78,
     "metadata": {},
     "output_type": "execute_result"
    }
   ],
   "source": [
    "({1,2,3}).issubset(a)"
   ]
  },
  {
   "cell_type": "code",
   "execution_count": 79,
   "id": "20888f96",
   "metadata": {},
   "outputs": [
    {
     "data": {
      "text/plain": [
       "True"
      ]
     },
     "execution_count": 79,
     "metadata": {},
     "output_type": "execute_result"
    }
   ],
   "source": [
    "a.issuperset({1,2,3}) # a contains all: 1,2 and 3"
   ]
  },
  {
   "cell_type": "code",
   "execution_count": 85,
   "id": "4b4d1be0",
   "metadata": {},
   "outputs": [
    {
     "data": {
      "text/plain": [
       "['Maria', 'Natalia']"
      ]
     },
     "execution_count": 85,
     "metadata": {},
     "output_type": "execute_result"
    }
   ],
   "source": [
    "# list of lists , 2 for loops:\n",
    "all_data = [['John', 'Emily', 'Michael', 'Mary', 'Steven'],\n",
    "            ['Maria', 'Juan', 'Javier', 'Natalia', 'Pilar']]\n",
    "\n",
    "desired_list=[]\n",
    "for names in all_data:\n",
    "    [desired_list.append(name) for name in names if name.count('a')>=2] \n",
    "\n",
    "desired_list"
   ]
  },
  {
   "cell_type": "code",
   "execution_count": 87,
   "id": "802456e4",
   "metadata": {},
   "outputs": [
    {
     "data": {
      "text/plain": [
       "['Maria', 'Natalia']"
      ]
     },
     "execution_count": 87,
     "metadata": {},
     "output_type": "execute_result"
    }
   ],
   "source": [
    "# shorter form:\n",
    "result=[name for names in all_data for name in names if name.count('a')>=2]\n",
    "result"
   ]
  },
  {
   "cell_type": "code",
   "execution_count": 88,
   "id": "00874cdb",
   "metadata": {},
   "outputs": [
    {
     "data": {
      "text/plain": [
       "[1, 2, 3, 4, 5, 6, 7, 8, 9]"
      ]
     },
     "execution_count": 88,
     "metadata": {},
     "output_type": "execute_result"
    }
   ],
   "source": [
    "# flatten tuples:\n",
    "some_tuples = [(1, 2, 3), (4, 5, 6), (7, 8, 9)]\n",
    "flatten=[x for tup in some_tuples for x in tup]\n",
    "flatten"
   ]
  },
  {
   "cell_type": "code",
   "execution_count": 89,
   "id": "69809a78",
   "metadata": {},
   "outputs": [
    {
     "data": {
      "text/plain": [
       "[[1, 2, 3], [4, 5, 6], [7, 8, 9]]"
      ]
     },
     "execution_count": 89,
     "metadata": {},
     "output_type": "execute_result"
    }
   ],
   "source": [
    "# nested list:\n",
    "nested=[[x for x in tup] for tup in some_tuples]\n",
    "nested"
   ]
  },
  {
   "cell_type": "code",
   "execution_count": 100,
   "id": "22f43c96",
   "metadata": {},
   "outputs": [
    {
     "data": {
      "text/plain": [
       "['Alabama',\n",
       " 'Georgia',\n",
       " 'Georgia',\n",
       " 'Georgia',\n",
       " 'Florida',\n",
       " 'South Carolina',\n",
       " 'West Virginia']"
      ]
     },
     "execution_count": 100,
     "metadata": {},
     "output_type": "execute_result"
    }
   ],
   "source": [
    "# function to clean list of strings:\n",
    "import re # module ReGex \n",
    "\n",
    "states = [' Alabama ', 'Georgia!', 'Georgia', 'georgia', 'FlOrIda', 'south carolina##', 'West virginia?']\n",
    "\n",
    "def clear_list(lista):\n",
    "    result=[]\n",
    "    for string in lista:\n",
    "        string=string.strip() # removing both the leading and the trailing characters (based on the string argument passed)\n",
    "        string=re.sub('[#?!]', '', string) # substitutes special characters\n",
    "        string=string.title() #uppercase first letter\n",
    "        result.append(string)\n",
    "    return result\n",
    "\n",
    "clear_list(states)"
   ]
  },
  {
   "cell_type": "code",
   "execution_count": 105,
   "id": "42cdf095",
   "metadata": {},
   "outputs": [
    {
     "name": "stdout",
     "output_type": "stream",
     "text": [
      "multipl function: 8\n",
      "lambda: 8\n"
     ]
    }
   ],
   "source": [
    "# ANONYMOUS = LAMBDA FUNCTIONS - writing functions consisting of a single statement, lambda keyword = function declaration\n",
    "\n",
    "def multipl(x):\n",
    "    return x*2\n",
    "\n",
    "# or with lambda:\n",
    "result=lambda x: x*2\n",
    "print(f'multipl function: {multipl(4)}\\nlambda: {result(4)}')"
   ]
  },
  {
   "cell_type": "code",
   "execution_count": 113,
   "id": "c7b60d2b",
   "metadata": {},
   "outputs": [
    {
     "data": {
      "text/plain": [
       "['aaaa', 'foo', 'abab', 'bar', 'card']"
      ]
     },
     "execution_count": 113,
     "metadata": {},
     "output_type": "execute_result"
    }
   ],
   "source": [
    "# sort a collection of strings by the number of distinct letters in each string:\n",
    "strings = ['foo', 'card', 'bar', 'aaaa', 'abab']\n",
    "strings.sort(key= lambda x: len(set(list(x))))\n",
    "strings"
   ]
  },
  {
   "cell_type": "code",
   "execution_count": null,
   "id": "6f7be818",
   "metadata": {},
   "outputs": [],
   "source": [
    "# opening file - When you use open to create file objects, it is important to explicitly close the file when you are finished\n",
    "# with it. Closing the file releases its resources back to the operating system:\n",
    "\n",
    "f=open(path)\n",
    "for line in f:\n",
    "    ...\n",
    "\n",
    "f.close()\n",
    "\n",
    "# writing 'with' - will automatically close opened file when exiting the with block\n",
    "with open(path) as f:\n",
    "    line=[x.rstrip() for x in f]"
   ]
  },
  {
   "cell_type": "code",
   "execution_count": null,
   "id": "ecd2890d",
   "metadata": {},
   "outputs": [],
   "source": []
  }
 ],
 "metadata": {
  "kernelspec": {
   "display_name": "Python 3",
   "language": "python",
   "name": "python3"
  },
  "language_info": {
   "codemirror_mode": {
    "name": "ipython",
    "version": 3
   },
   "file_extension": ".py",
   "mimetype": "text/x-python",
   "name": "python",
   "nbconvert_exporter": "python",
   "pygments_lexer": "ipython3",
   "version": "3.8.8"
  }
 },
 "nbformat": 4,
 "nbformat_minor": 5
}
