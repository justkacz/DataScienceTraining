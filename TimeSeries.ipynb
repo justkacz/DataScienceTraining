{
 "cells": [
  {
   "cell_type": "code",
   "execution_count": 241,
   "id": "af13ec02",
   "metadata": {},
   "outputs": [
    {
     "data": {
      "text/html": [
       "<div>\n",
       "<style scoped>\n",
       "    .dataframe tbody tr th:only-of-type {\n",
       "        vertical-align: middle;\n",
       "    }\n",
       "\n",
       "    .dataframe tbody tr th {\n",
       "        vertical-align: top;\n",
       "    }\n",
       "\n",
       "    .dataframe thead th {\n",
       "        text-align: right;\n",
       "    }\n",
       "</style>\n",
       "<table border=\"1\" class=\"dataframe\">\n",
       "  <thead>\n",
       "    <tr style=\"text-align: right;\">\n",
       "      <th></th>\n",
       "      <th>DBAA</th>\n",
       "    </tr>\n",
       "    <tr>\n",
       "      <th>DATE</th>\n",
       "      <th></th>\n",
       "    </tr>\n",
       "  </thead>\n",
       "  <tbody>\n",
       "    <tr>\n",
       "      <th>2017-02-10</th>\n",
       "      <td>4.64</td>\n",
       "    </tr>\n",
       "    <tr>\n",
       "      <th>2017-02-13</th>\n",
       "      <td>4.66</td>\n",
       "    </tr>\n",
       "    <tr>\n",
       "      <th>2017-02-14</th>\n",
       "      <td>4.68</td>\n",
       "    </tr>\n",
       "    <tr>\n",
       "      <th>2017-02-15</th>\n",
       "      <td>4.7</td>\n",
       "    </tr>\n",
       "    <tr>\n",
       "      <th>2017-02-16</th>\n",
       "      <td>4.65</td>\n",
       "    </tr>\n",
       "    <tr>\n",
       "      <th>...</th>\n",
       "      <td>...</td>\n",
       "    </tr>\n",
       "    <tr>\n",
       "      <th>2022-02-04</th>\n",
       "      <td>3.85</td>\n",
       "    </tr>\n",
       "    <tr>\n",
       "      <th>2022-02-07</th>\n",
       "      <td>3.85</td>\n",
       "    </tr>\n",
       "    <tr>\n",
       "      <th>2022-02-08</th>\n",
       "      <td>3.87</td>\n",
       "    </tr>\n",
       "    <tr>\n",
       "      <th>2022-02-09</th>\n",
       "      <td>3.86</td>\n",
       "    </tr>\n",
       "    <tr>\n",
       "      <th>2022-02-10</th>\n",
       "      <td>3.94</td>\n",
       "    </tr>\n",
       "  </tbody>\n",
       "</table>\n",
       "<p>1305 rows × 1 columns</p>\n",
       "</div>"
      ],
      "text/plain": [
       "            DBAA\n",
       "DATE            \n",
       "2017-02-10  4.64\n",
       "2017-02-13  4.66\n",
       "2017-02-14  4.68\n",
       "2017-02-15   4.7\n",
       "2017-02-16  4.65\n",
       "...          ...\n",
       "2022-02-04  3.85\n",
       "2022-02-07  3.85\n",
       "2022-02-08  3.87\n",
       "2022-02-09  3.86\n",
       "2022-02-10  3.94\n",
       "\n",
       "[1305 rows x 1 columns]"
      ]
     },
     "execution_count": 241,
     "metadata": {},
     "output_type": "execute_result"
    }
   ],
   "source": [
    "import pandas as pd\n",
    "\n",
    "\n",
    "stock=pd.read_csv('https://raw.githubusercontent.com/justkacz/csvfiles/main/NIKKEI225.csv', parse_dates =[\"DATE\"], index_col =\"DATE\")\n",
    "bond=pd.read_csv('https://raw.githubusercontent.com/justkacz/csvfiles/main/DBAA.csv', parse_dates =[\"DATE\"], index_col =\"DATE\")\n",
    "\n",
    "\n",
    "# OR:\n",
    "# stock=pd.read_csv('C://Users//jkaczmarek//OneDrive - Apollogic sp. z o.o//Pulpit//TEST//JUPYTER//csvfiles//NIKKEI225.csv')\n",
    "# bond=pd.read_csv('C://Users//jkaczmarek//OneDrive - Apollogic sp. z o.o//Pulpit//TEST//JUPYTER//csvfiles//DBAA.csv')\n",
    "\n",
    "\n",
    "# bond.DATE=pd.to_datetime(bond.DATE)\n",
    "# stock.DATE=pd.to_datetime(stock.DATE)\n",
    "\n",
    "# stock.set_index('DATE', inplace=True)\n",
    "# bond.set_index('DATE', inplace=True)\n",
    "\n",
    "stock\n",
    "bond"
   ]
  },
  {
   "cell_type": "code",
   "execution_count": 204,
   "id": "3cf84913",
   "metadata": {},
   "outputs": [
    {
     "name": "stdout",
     "output_type": "stream",
     "text": [
      "<class 'pandas.core.frame.DataFrame'>\n",
      "DatetimeIndex: 1305 entries, 2017-02-10 to 2022-02-10\n",
      "Data columns (total 1 columns):\n",
      " #   Column     Non-Null Count  Dtype  \n",
      "---  ------     --------------  -----  \n",
      " 0   NIKKEI225  1222 non-null   float64\n",
      "dtypes: float64(1)\n",
      "memory usage: 20.4 KB\n",
      "<class 'pandas.core.frame.DataFrame'>\n",
      "DatetimeIndex: 1305 entries, 2017-02-10 to 2022-02-10\n",
      "Data columns (total 1 columns):\n",
      " #   Column  Non-Null Count  Dtype  \n",
      "---  ------  --------------  -----  \n",
      " 0   DBAA    1252 non-null   float64\n",
      "dtypes: float64(1)\n",
      "memory usage: 20.4 KB\n"
     ]
    }
   ],
   "source": [
    "# CHANGE DATA TYPE FROM OBJECT TO FLOAT - pd.to_numeric() replaces not numeric values - errors parameter\n",
    "\n",
    "stock.NIKKEI225=pd.to_numeric(stock.NIKKEI225, errors='coerce')\n",
    "bond.DBAA=pd.to_numeric(bond.DBAA, errors='coerce')\n",
    "stock.info()\n",
    "bond.info()\n",
    "# stock.NIKKEI225.astype('float')"
   ]
  },
  {
   "cell_type": "code",
   "execution_count": 140,
   "id": "3ca3a8bd",
   "metadata": {},
   "outputs": [
    {
     "data": {
      "text/plain": [
       "NIKKEI225    float64\n",
       "DBAA         float64\n",
       "dtype: object"
      ]
     },
     "execution_count": 140,
     "metadata": {},
     "output_type": "execute_result"
    }
   ],
   "source": [
    "# or:\n",
    "\n",
    "# s_and_b.replace('.', 0, inplace=True)\n",
    "# s_and_b=s_and_b.astype('float')\n",
    "# s_and_b.dtypes"
   ]
  },
  {
   "cell_type": "code",
   "execution_count": 205,
   "id": "a2d62be5",
   "metadata": {},
   "outputs": [
    {
     "data": {
      "text/plain": [
       "set()"
      ]
     },
     "execution_count": 205,
     "metadata": {},
     "output_type": "execute_result"
    }
   ],
   "source": [
    "# set() - Build an unordered collection of unique elements\n",
    "\n",
    "set_stock_dates = set(stock.index)\n",
    "set_bond_dates = set(bond.index)\n",
    "\n",
    "# the difference between the sets:\n",
    "difference = set_stock_dates - set_bond_dates\n",
    "difference"
   ]
  },
  {
   "cell_type": "code",
   "execution_count": 206,
   "id": "a8557773",
   "metadata": {
    "scrolled": true
   },
   "outputs": [
    {
     "data": {
      "text/html": [
       "<div>\n",
       "<style scoped>\n",
       "    .dataframe tbody tr th:only-of-type {\n",
       "        vertical-align: middle;\n",
       "    }\n",
       "\n",
       "    .dataframe tbody tr th {\n",
       "        vertical-align: top;\n",
       "    }\n",
       "\n",
       "    .dataframe thead th {\n",
       "        text-align: right;\n",
       "    }\n",
       "</style>\n",
       "<table border=\"1\" class=\"dataframe\">\n",
       "  <thead>\n",
       "    <tr style=\"text-align: right;\">\n",
       "      <th></th>\n",
       "      <th>NIKKEI225</th>\n",
       "      <th>DBAA</th>\n",
       "    </tr>\n",
       "    <tr>\n",
       "      <th>DATE</th>\n",
       "      <th></th>\n",
       "      <th></th>\n",
       "    </tr>\n",
       "  </thead>\n",
       "  <tbody>\n",
       "    <tr>\n",
       "      <th>2017-02-10</th>\n",
       "      <td>19378.93</td>\n",
       "      <td>4.64</td>\n",
       "    </tr>\n",
       "    <tr>\n",
       "      <th>2017-02-13</th>\n",
       "      <td>19459.15</td>\n",
       "      <td>4.66</td>\n",
       "    </tr>\n",
       "    <tr>\n",
       "      <th>2017-02-14</th>\n",
       "      <td>19238.98</td>\n",
       "      <td>4.68</td>\n",
       "    </tr>\n",
       "    <tr>\n",
       "      <th>2017-02-15</th>\n",
       "      <td>19437.98</td>\n",
       "      <td>4.70</td>\n",
       "    </tr>\n",
       "    <tr>\n",
       "      <th>2017-02-16</th>\n",
       "      <td>19347.53</td>\n",
       "      <td>4.65</td>\n",
       "    </tr>\n",
       "  </tbody>\n",
       "</table>\n",
       "</div>"
      ],
      "text/plain": [
       "            NIKKEI225  DBAA\n",
       "DATE                       \n",
       "2017-02-10   19378.93  4.64\n",
       "2017-02-13   19459.15  4.66\n",
       "2017-02-14   19238.98  4.68\n",
       "2017-02-15   19437.98  4.70\n",
       "2017-02-16   19347.53  4.65"
      ]
     },
     "execution_count": 206,
     "metadata": {},
     "output_type": "execute_result"
    }
   ],
   "source": [
    "s_and_b=stock.join(bond, how='inner')\n",
    "s_and_b.head()"
   ]
  },
  {
   "cell_type": "code",
   "execution_count": 207,
   "id": "5638cd69",
   "metadata": {},
   "outputs": [
    {
     "data": {
      "text/plain": [
       "[<matplotlib.lines.Line2D at 0x1bfb1847910>]"
      ]
     },
     "execution_count": 207,
     "metadata": {},
     "output_type": "execute_result"
    },
    {
     "data": {
      "image/png": "[encoded data removed]",
      "text/plain": [
       "<Figure size 432x288 with 2 Axes>"
      ]
     },
     "metadata": {
      "needs_background": "light"
     },
     "output_type": "display_data"
    }
   ],
   "source": [
    "import matplotlib.pyplot as plt\n",
    "\n",
    "fig, ax = plt.subplots(2)\n",
    "\n",
    "ax[0].plot(s_and_b.NIKKEI225)\n",
    "ax[1].plot(s_and_b.DBAA)\n"
   ]
  },
  {
   "cell_type": "code",
   "execution_count": 208,
   "id": "8b2f8b5a",
   "metadata": {},
   "outputs": [
    {
     "data": {
      "text/html": [
       "<div>\n",
       "<style scoped>\n",
       "    .dataframe tbody tr th:only-of-type {\n",
       "        vertical-align: middle;\n",
       "    }\n",
       "\n",
       "    .dataframe tbody tr th {\n",
       "        vertical-align: top;\n",
       "    }\n",
       "\n",
       "    .dataframe thead th {\n",
       "        text-align: right;\n",
       "    }\n",
       "</style>\n",
       "<table border=\"1\" class=\"dataframe\">\n",
       "  <thead>\n",
       "    <tr style=\"text-align: right;\">\n",
       "      <th></th>\n",
       "      <th>NIKKEI225</th>\n",
       "      <th>DBAA</th>\n",
       "    </tr>\n",
       "    <tr>\n",
       "      <th>DATE</th>\n",
       "      <th></th>\n",
       "      <th></th>\n",
       "    </tr>\n",
       "  </thead>\n",
       "  <tbody>\n",
       "    <tr>\n",
       "      <th>2017-02-28</th>\n",
       "      <td>19307.003077</td>\n",
       "      <td>4.624167</td>\n",
       "    </tr>\n",
       "    <tr>\n",
       "      <th>2017-03-31</th>\n",
       "      <td>19340.177273</td>\n",
       "      <td>4.681739</td>\n",
       "    </tr>\n",
       "    <tr>\n",
       "      <th>2017-04-30</th>\n",
       "      <td>18736.390500</td>\n",
       "      <td>4.569474</td>\n",
       "    </tr>\n",
       "    <tr>\n",
       "      <th>2017-05-31</th>\n",
       "      <td>19726.756500</td>\n",
       "      <td>4.549545</td>\n",
       "    </tr>\n",
       "    <tr>\n",
       "      <th>2017-06-30</th>\n",
       "      <td>20045.627727</td>\n",
       "      <td>4.370000</td>\n",
       "    </tr>\n",
       "  </tbody>\n",
       "</table>\n",
       "</div>"
      ],
      "text/plain": [
       "               NIKKEI225      DBAA\n",
       "DATE                              \n",
       "2017-02-28  19307.003077  4.624167\n",
       "2017-03-31  19340.177273  4.681739\n",
       "2017-04-30  18736.390500  4.569474\n",
       "2017-05-31  19726.756500  4.549545\n",
       "2017-06-30  20045.627727  4.370000"
      ]
     },
     "execution_count": 208,
     "metadata": {},
     "output_type": "execute_result"
    }
   ],
   "source": [
    "s_and_b_month=s_and_b.resample(rule='M').mean()\n",
    "s_and_b_month.head()"
   ]
  },
  {
   "cell_type": "code",
   "execution_count": 209,
   "id": "8e657f44",
   "metadata": {},
   "outputs": [
    {
     "data": {
      "text/plain": [
       "[<matplotlib.lines.Line2D at 0x1bfb18f4790>]"
      ]
     },
     "execution_count": 209,
     "metadata": {},
     "output_type": "execute_result"
    },
    {
     "data": {
      "image/png": "[encoded data removed]",
      "text/plain": [
       "<Figure size 432x288 with 2 Axes>"
      ]
     },
     "metadata": {
      "needs_background": "light"
     },
     "output_type": "display_data"
    }
   ],
   "source": [
    "fig, ax=plt.subplots(2)\n",
    "\n",
    "ax[0].plot(s_and_b_month.NIKKEI225)\n",
    "ax[1].plot(s_and_b_month.DBAA)\n",
    "\n",
    "# s_and_b_month.plot()"
   ]
  },
  {
   "cell_type": "code",
   "execution_count": 214,
   "id": "bb59bb9e",
   "metadata": {},
   "outputs": [
    {
     "data": {
      "text/html": [
       "<div>\n",
       "<style scoped>\n",
       "    .dataframe tbody tr th:only-of-type {\n",
       "        vertical-align: middle;\n",
       "    }\n",
       "\n",
       "    .dataframe tbody tr th {\n",
       "        vertical-align: top;\n",
       "    }\n",
       "\n",
       "    .dataframe thead th {\n",
       "        text-align: right;\n",
       "    }\n",
       "</style>\n",
       "<table border=\"1\" class=\"dataframe\">\n",
       "  <thead>\n",
       "    <tr style=\"text-align: right;\">\n",
       "      <th></th>\n",
       "      <th>NIKKEI225</th>\n",
       "      <th>DBAA</th>\n",
       "    </tr>\n",
       "    <tr>\n",
       "      <th>DATE</th>\n",
       "      <th></th>\n",
       "      <th></th>\n",
       "    </tr>\n",
       "  </thead>\n",
       "  <tbody>\n",
       "    <tr>\n",
       "      <th>2017-02-13</th>\n",
       "      <td>0.004140</td>\n",
       "      <td>0.004310</td>\n",
       "    </tr>\n",
       "    <tr>\n",
       "      <th>2017-02-14</th>\n",
       "      <td>-0.011314</td>\n",
       "      <td>0.004292</td>\n",
       "    </tr>\n",
       "    <tr>\n",
       "      <th>2017-02-15</th>\n",
       "      <td>0.010344</td>\n",
       "      <td>0.004274</td>\n",
       "    </tr>\n",
       "    <tr>\n",
       "      <th>2017-02-16</th>\n",
       "      <td>-0.004653</td>\n",
       "      <td>-0.010638</td>\n",
       "    </tr>\n",
       "    <tr>\n",
       "      <th>2017-02-17</th>\n",
       "      <td>-0.005836</td>\n",
       "      <td>-0.004301</td>\n",
       "    </tr>\n",
       "    <tr>\n",
       "      <th>...</th>\n",
       "      <td>...</td>\n",
       "      <td>...</td>\n",
       "    </tr>\n",
       "    <tr>\n",
       "      <th>2022-02-04</th>\n",
       "      <td>0.007293</td>\n",
       "      <td>0.029412</td>\n",
       "    </tr>\n",
       "    <tr>\n",
       "      <th>2022-02-07</th>\n",
       "      <td>-0.006965</td>\n",
       "      <td>0.000000</td>\n",
       "    </tr>\n",
       "    <tr>\n",
       "      <th>2022-02-08</th>\n",
       "      <td>0.001308</td>\n",
       "      <td>0.005195</td>\n",
       "    </tr>\n",
       "    <tr>\n",
       "      <th>2022-02-09</th>\n",
       "      <td>0.010825</td>\n",
       "      <td>-0.002584</td>\n",
       "    </tr>\n",
       "    <tr>\n",
       "      <th>2022-02-10</th>\n",
       "      <td>0.004214</td>\n",
       "      <td>0.020725</td>\n",
       "    </tr>\n",
       "  </tbody>\n",
       "</table>\n",
       "<p>1304 rows × 2 columns</p>\n",
       "</div>"
      ],
      "text/plain": [
       "            NIKKEI225      DBAA\n",
       "DATE                           \n",
       "2017-02-13   0.004140  0.004310\n",
       "2017-02-14  -0.011314  0.004292\n",
       "2017-02-15   0.010344  0.004274\n",
       "2017-02-16  -0.004653 -0.010638\n",
       "2017-02-17  -0.005836 -0.004301\n",
       "...               ...       ...\n",
       "2022-02-04   0.007293  0.029412\n",
       "2022-02-07  -0.006965  0.000000\n",
       "2022-02-08   0.001308  0.005195\n",
       "2022-02-09   0.010825 -0.002584\n",
       "2022-02-10   0.004214  0.020725\n",
       "\n",
       "[1304 rows x 2 columns]"
      ]
     },
     "execution_count": 214,
     "metadata": {},
     "output_type": "execute_result"
    }
   ],
   "source": [
    "# % change:\n",
    "returns=s_and_b.pct_change()\n",
    "ret=returns.copy()\n",
    "ret.dropna(inplace=True)\n",
    "ret"
   ]
  },
  {
   "cell_type": "markdown",
   "id": "6fa7121a",
   "metadata": {},
   "source": [
    "Two trending series may show a strong correlation even if they are completely unrelated. This is referred to as \"spurious correlation\". That's why when you look at the correlation of say, two stocks, you should look at the correlation of their returns and not their levels."
   ]
  },
  {
   "cell_type": "code",
   "execution_count": 216,
   "id": "2d5faa3f",
   "metadata": {},
   "outputs": [
    {
     "name": "stdout",
     "output_type": "stream",
     "text": [
      "-0.001183678637355386\n"
     ]
    }
   ],
   "source": [
    "# correlation of changes (returns):\n",
    "corr=returns.NIKKEI225.corr(returns.DBAA)\n",
    "print(corr)"
   ]
  },
  {
   "cell_type": "code",
   "execution_count": 180,
   "id": "2ae46276",
   "metadata": {},
   "outputs": [
    {
     "data": {
      "text/plain": [
       "-0.6769519127053625"
      ]
     },
     "execution_count": 180,
     "metadata": {},
     "output_type": "execute_result"
    }
   ],
   "source": [
    "# correlation of levels:\n",
    "corr2=s_and_b.NIKKEI225.corr(s_and_b.DBAA)\n",
    "corr2"
   ]
  },
  {
   "cell_type": "code",
   "execution_count": 230,
   "id": "8f19bf9c",
   "metadata": {},
   "outputs": [
    {
     "data": {
      "text/plain": [
       "[<matplotlib.lines.Line2D at 0x1bfb1abb1f0>]"
      ]
     },
     "execution_count": 230,
     "metadata": {},
     "output_type": "execute_result"
    },
    {
     "data": {
      "image/png": "[encoded data removed]",
      "text/plain": [
       "<Figure size 432x288 with 1 Axes>"
      ]
     },
     "metadata": {
      "needs_background": "light"
     },
     "output_type": "display_data"
    }
   ],
   "source": [
    "plt.scatter(returns.NIKKEI225, returns.DBAA)\n",
    "x=ret.NIKKEI225\n",
    "y=ret.DBAA\n",
    "m, b = np.polyfit(x, y, 1)\n",
    "plt.plot(x, m*x+b, color='red')"
   ]
  },
  {
   "cell_type": "markdown",
   "id": "df0a9986",
   "metadata": {},
   "source": [
    "SIMPLE LINEAR REGRESSION = OLS = ORDINARY LEAST SQUARES\n",
    "- it minimises the squared distances between the data points and the regression line\n",
    "\n",
    "pd.ols(x,y)\n",
    "\n",
    "np.polyfit(x, y, deg=1)\n",
    "\n",
    "\n",
    "R-squared measures how closely the data fit the regression line, so the R-squared in a simple regression is related to the correlation between the two variables. In particular, the magnitude of the correlation is the square root of the R-squared and the sign of the correlation is the sign of the regression coefficient.\n",
    "\n",
    "Rsquared = 0.753\n",
    "-  slope = positive\n",
    "- correlation =sqrt(Rsquared)=0.868"
   ]
  },
  {
   "cell_type": "code",
   "execution_count": 232,
   "id": "c498e3a3",
   "metadata": {},
   "outputs": [
    {
     "data": {
      "text/html": [
       "<div>\n",
       "<style scoped>\n",
       "    .dataframe tbody tr th:only-of-type {\n",
       "        vertical-align: middle;\n",
       "    }\n",
       "\n",
       "    .dataframe tbody tr th {\n",
       "        vertical-align: top;\n",
       "    }\n",
       "\n",
       "    .dataframe thead th {\n",
       "        text-align: right;\n",
       "    }\n",
       "</style>\n",
       "<table border=\"1\" class=\"dataframe\">\n",
       "  <thead>\n",
       "    <tr style=\"text-align: right;\">\n",
       "      <th></th>\n",
       "      <th>const</th>\n",
       "      <th>NIKKEI225</th>\n",
       "    </tr>\n",
       "    <tr>\n",
       "      <th>DATE</th>\n",
       "      <th></th>\n",
       "      <th></th>\n",
       "    </tr>\n",
       "  </thead>\n",
       "  <tbody>\n",
       "    <tr>\n",
       "      <th>2017-02-10</th>\n",
       "      <td>1.0</td>\n",
       "      <td>NaN</td>\n",
       "    </tr>\n",
       "    <tr>\n",
       "      <th>2017-02-13</th>\n",
       "      <td>1.0</td>\n",
       "      <td>0.004140</td>\n",
       "    </tr>\n",
       "    <tr>\n",
       "      <th>2017-02-14</th>\n",
       "      <td>1.0</td>\n",
       "      <td>-0.011314</td>\n",
       "    </tr>\n",
       "    <tr>\n",
       "      <th>2017-02-15</th>\n",
       "      <td>1.0</td>\n",
       "      <td>0.010344</td>\n",
       "    </tr>\n",
       "    <tr>\n",
       "      <th>2017-02-16</th>\n",
       "      <td>1.0</td>\n",
       "      <td>-0.004653</td>\n",
       "    </tr>\n",
       "    <tr>\n",
       "      <th>...</th>\n",
       "      <td>...</td>\n",
       "      <td>...</td>\n",
       "    </tr>\n",
       "    <tr>\n",
       "      <th>2022-02-04</th>\n",
       "      <td>1.0</td>\n",
       "      <td>0.007293</td>\n",
       "    </tr>\n",
       "    <tr>\n",
       "      <th>2022-02-07</th>\n",
       "      <td>1.0</td>\n",
       "      <td>-0.006965</td>\n",
       "    </tr>\n",
       "    <tr>\n",
       "      <th>2022-02-08</th>\n",
       "      <td>1.0</td>\n",
       "      <td>0.001308</td>\n",
       "    </tr>\n",
       "    <tr>\n",
       "      <th>2022-02-09</th>\n",
       "      <td>1.0</td>\n",
       "      <td>0.010825</td>\n",
       "    </tr>\n",
       "    <tr>\n",
       "      <th>2022-02-10</th>\n",
       "      <td>1.0</td>\n",
       "      <td>0.004214</td>\n",
       "    </tr>\n",
       "  </tbody>\n",
       "</table>\n",
       "<p>1305 rows × 2 columns</p>\n",
       "</div>"
      ],
      "text/plain": [
       "            const  NIKKEI225\n",
       "DATE                        \n",
       "2017-02-10    1.0        NaN\n",
       "2017-02-13    1.0   0.004140\n",
       "2017-02-14    1.0  -0.011314\n",
       "2017-02-15    1.0   0.010344\n",
       "2017-02-16    1.0  -0.004653\n",
       "...           ...        ...\n",
       "2022-02-04    1.0   0.007293\n",
       "2022-02-07    1.0  -0.006965\n",
       "2022-02-08    1.0   0.001308\n",
       "2022-02-09    1.0   0.010825\n",
       "2022-02-10    1.0   0.004214\n",
       "\n",
       "[1305 rows x 2 columns]"
      ]
     },
     "execution_count": 232,
     "metadata": {},
     "output_type": "execute_result"
    }
   ],
   "source": [
    "import statsmodels.api as sm\n",
    "\n",
    "x1=returns.NIKKEI225\n",
    "y1=returns.DBAA\n",
    "\n",
    "x1=sm.add_constant(x1)\n",
    "x1"
   ]
  },
  {
   "cell_type": "code",
   "execution_count": 233,
   "id": "55854c83",
   "metadata": {},
   "outputs": [
    {
     "data": {
      "text/html": [
       "<table class=\"simpletable\">\n",
       "<caption>OLS Regression Results</caption>\n",
       "<tr>\n",
       "  <th>Dep. Variable:</th>          <td>DBAA</td>       <th>  R-squared:         </th> <td>   0.000</td>\n",
       "</tr>\n",
       "<tr>\n",
       "  <th>Model:</th>                   <td>OLS</td>       <th>  Adj. R-squared:    </th> <td>  -0.001</td>\n",
       "</tr>\n",
       "<tr>\n",
       "  <th>Method:</th>             <td>Least Squares</td>  <th>  F-statistic:       </th> <td>0.001824</td>\n",
       "</tr>\n",
       "<tr>\n",
       "  <th>Date:</th>             <td>Mon, 14 Feb 2022</td> <th>  Prob (F-statistic):</th>  <td> 0.966</td> \n",
       "</tr>\n",
       "<tr>\n",
       "  <th>Time:</th>                 <td>16:51:02</td>     <th>  Log-Likelihood:    </th> <td>  4027.2</td>\n",
       "</tr>\n",
       "<tr>\n",
       "  <th>No. Observations:</th>      <td>  1304</td>      <th>  AIC:               </th> <td>  -8050.</td>\n",
       "</tr>\n",
       "<tr>\n",
       "  <th>Df Residuals:</th>          <td>  1302</td>      <th>  BIC:               </th> <td>  -8040.</td>\n",
       "</tr>\n",
       "<tr>\n",
       "  <th>Df Model:</th>              <td>     1</td>      <th>                     </th>     <td> </td>   \n",
       "</tr>\n",
       "<tr>\n",
       "  <th>Covariance Type:</th>      <td>nonrobust</td>    <th>                     </th>     <td> </td>   \n",
       "</tr>\n",
       "</table>\n",
       "<table class=\"simpletable\">\n",
       "<tr>\n",
       "      <td></td>         <th>coef</th>     <th>std err</th>      <th>t</th>      <th>P>|t|</th>  <th>[0.025</th>    <th>0.975]</th>  \n",
       "</tr>\n",
       "<tr>\n",
       "  <th>const</th>     <td>-6.484e-05</td> <td>    0.000</td> <td>   -0.212</td> <td> 0.832</td> <td>   -0.001</td> <td>    0.001</td>\n",
       "</tr>\n",
       "<tr>\n",
       "  <th>NIKKEI225</th> <td>   -0.0011</td> <td>    0.027</td> <td>   -0.043</td> <td> 0.966</td> <td>   -0.054</td> <td>    0.052</td>\n",
       "</tr>\n",
       "</table>\n",
       "<table class=\"simpletable\">\n",
       "<tr>\n",
       "  <th>Omnibus:</th>       <td>574.248</td> <th>  Durbin-Watson:     </th> <td>   1.775</td> \n",
       "</tr>\n",
       "<tr>\n",
       "  <th>Prob(Omnibus):</th> <td> 0.000</td>  <th>  Jarque-Bera (JB):  </th> <td>11086.635</td>\n",
       "</tr>\n",
       "<tr>\n",
       "  <th>Skew:</th>          <td> 1.558</td>  <th>  Prob(JB):          </th> <td>    0.00</td> \n",
       "</tr>\n",
       "<tr>\n",
       "  <th>Kurtosis:</th>      <td>16.941</td>  <th>  Cond. No.          </th> <td>    87.9</td> \n",
       "</tr>\n",
       "</table><br/><br/>Notes:<br/>[1] Standard Errors assume that the covariance matrix of the errors is correctly specified."
      ],
      "text/plain": [
       "<class 'statsmodels.iolib.summary.Summary'>\n",
       "\"\"\"\n",
       "                            OLS Regression Results                            \n",
       "==============================================================================\n",
       "Dep. Variable:                   DBAA   R-squared:                       0.000\n",
       "Model:                            OLS   Adj. R-squared:                 -0.001\n",
       "Method:                 Least Squares   F-statistic:                  0.001824\n",
       "Date:                Mon, 14 Feb 2022   Prob (F-statistic):              0.966\n",
       "Time:                        16:51:02   Log-Likelihood:                 4027.2\n",
       "No. Observations:                1304   AIC:                            -8050.\n",
       "Df Residuals:                    1302   BIC:                            -8040.\n",
       "Df Model:                           1                                         \n",
       "Covariance Type:            nonrobust                                         \n",
       "==============================================================================\n",
       "                 coef    std err          t      P>|t|      [0.025      0.975]\n",
       "------------------------------------------------------------------------------\n",
       "const      -6.484e-05      0.000     -0.212      0.832      -0.001       0.001\n",
       "NIKKEI225     -0.0011      0.027     -0.043      0.966      -0.054       0.052\n",
       "==============================================================================\n",
       "Omnibus:                      574.248   Durbin-Watson:                   1.775\n",
       "Prob(Omnibus):                  0.000   Jarque-Bera (JB):            11086.635\n",
       "Skew:                           1.558   Prob(JB):                         0.00\n",
       "Kurtosis:                      16.941   Cond. No.                         87.9\n",
       "==============================================================================\n",
       "\n",
       "Notes:\n",
       "[1] Standard Errors assume that the covariance matrix of the errors is correctly specified.\n",
       "\"\"\""
      ]
     },
     "execution_count": 233,
     "metadata": {},
     "output_type": "execute_result"
    }
   ],
   "source": [
    "y1.dropna(inplace=True)\n",
    "x1.dropna(inplace=True)\n",
    "\n",
    "result= sm.OLS(y1, x1).fit()\n",
    "result.summary()"
   ]
  },
  {
   "cell_type": "code",
   "execution_count": 240,
   "id": "d7e1767e",
   "metadata": {},
   "outputs": [
    {
     "data": {
      "text/html": [
       "<div>\n",
       "<style scoped>\n",
       "    .dataframe tbody tr th:only-of-type {\n",
       "        vertical-align: middle;\n",
       "    }\n",
       "\n",
       "    .dataframe tbody tr th {\n",
       "        vertical-align: top;\n",
       "    }\n",
       "\n",
       "    .dataframe thead th {\n",
       "        text-align: right;\n",
       "    }\n",
       "</style>\n",
       "<table border=\"1\" class=\"dataframe\">\n",
       "  <thead>\n",
       "    <tr style=\"text-align: right;\">\n",
       "      <th></th>\n",
       "      <th>DBAA</th>\n",
       "    </tr>\n",
       "    <tr>\n",
       "      <th>DATE</th>\n",
       "      <th></th>\n",
       "    </tr>\n",
       "  </thead>\n",
       "  <tbody>\n",
       "    <tr>\n",
       "      <th>2017-02-10</th>\n",
       "      <td>NaN</td>\n",
       "    </tr>\n",
       "    <tr>\n",
       "      <th>2017-02-13</th>\n",
       "      <td>0.02</td>\n",
       "    </tr>\n",
       "    <tr>\n",
       "      <th>2017-02-14</th>\n",
       "      <td>0.02</td>\n",
       "    </tr>\n",
       "    <tr>\n",
       "      <th>2017-02-15</th>\n",
       "      <td>0.02</td>\n",
       "    </tr>\n",
       "    <tr>\n",
       "      <th>2017-02-16</th>\n",
       "      <td>-0.05</td>\n",
       "    </tr>\n",
       "    <tr>\n",
       "      <th>...</th>\n",
       "      <td>...</td>\n",
       "    </tr>\n",
       "    <tr>\n",
       "      <th>2022-02-04</th>\n",
       "      <td>0.11</td>\n",
       "    </tr>\n",
       "    <tr>\n",
       "      <th>2022-02-07</th>\n",
       "      <td>0.00</td>\n",
       "    </tr>\n",
       "    <tr>\n",
       "      <th>2022-02-08</th>\n",
       "      <td>0.02</td>\n",
       "    </tr>\n",
       "    <tr>\n",
       "      <th>2022-02-09</th>\n",
       "      <td>-0.01</td>\n",
       "    </tr>\n",
       "    <tr>\n",
       "      <th>2022-02-10</th>\n",
       "      <td>0.08</td>\n",
       "    </tr>\n",
       "  </tbody>\n",
       "</table>\n",
       "<p>1305 rows × 1 columns</p>\n",
       "</div>"
      ],
      "text/plain": [
       "            DBAA\n",
       "DATE            \n",
       "2017-02-10   NaN\n",
       "2017-02-13  0.02\n",
       "2017-02-14  0.02\n",
       "2017-02-15  0.02\n",
       "2017-02-16 -0.05\n",
       "...          ...\n",
       "2022-02-04  0.11\n",
       "2022-02-07  0.00\n",
       "2022-02-08  0.02\n",
       "2022-02-09 -0.01\n",
       "2022-02-10  0.08\n",
       "\n",
       "[1305 rows x 1 columns]"
      ]
     },
     "execution_count": 240,
     "metadata": {},
     "output_type": "execute_result"
    }
   ],
   "source": [
    "# diff() -returns a difference between the rows (if asis = 1 columns)\n",
    "\n",
    "bond.diff(axis=0)\n",
    "# bond.pct_change()"
   ]
  }
 ],
 "metadata": {
  "kernelspec": {
   "display_name": "Python 3",
   "language": "python",
   "name": "python3"
  },
  "language_info": {
   "codemirror_mode": {
    "name": "ipython",
    "version": 3
   },
   "file_extension": ".py",
   "mimetype": "text/x-python",
   "name": "python",
   "nbconvert_exporter": "python",
   "pygments_lexer": "ipython3",
   "version": "3.8.8"
  }
 },
 "nbformat": 4,
 "nbformat_minor": 5
}
