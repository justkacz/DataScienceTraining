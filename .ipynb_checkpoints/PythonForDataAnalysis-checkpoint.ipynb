{
 "cells": [
  {
   "cell_type": "code",
   "execution_count": 1,
   "id": "e502beca",
   "metadata": {},
   "outputs": [
    {
     "data": {
      "text/plain": [
       "True"
      ]
     },
     "execution_count": 1,
     "metadata": {},
     "output_type": "execute_result"
    }
   ],
   "source": [
    "a=5\n",
    "isinstance(a, int)"
   ]
  },
  {
   "cell_type": "code",
   "execution_count": 8,
   "id": "dd815adf",
   "metadata": {},
   "outputs": [
    {
     "data": {
      "text/plain": [
       "<list_iterator at 0x1fa3f84f3a0>"
      ]
     },
     "execution_count": 8,
     "metadata": {},
     "output_type": "execute_result"
    }
   ],
   "source": [
    "a=[1,2,3]\n",
    "iter(a)\n"
   ]
  },
  {
   "cell_type": "code",
   "execution_count": 16,
   "id": "164976f0",
   "metadata": {},
   "outputs": [
    {
     "data": {
      "text/plain": [
       "2"
      ]
     },
     "execution_count": 16,
     "metadata": {},
     "output_type": "execute_result"
    }
   ],
   "source": [
    "from datetime import datetime, date, time\n",
    "\n",
    "dt=datetime(2022, 3, 16, 20, 30, 41)\n",
    "dt.weekday()"
   ]
  },
  {
   "cell_type": "code",
   "execution_count": 17,
   "id": "47bc8cc6",
   "metadata": {},
   "outputs": [
    {
     "data": {
      "text/plain": [
       "datetime.time(20, 30, 41)"
      ]
     },
     "execution_count": 17,
     "metadata": {},
     "output_type": "execute_result"
    }
   ],
   "source": [
    "dt.time()"
   ]
  },
  {
   "cell_type": "code",
   "execution_count": 20,
   "id": "0cc39ad7",
   "metadata": {},
   "outputs": [
    {
     "data": {
      "text/plain": [
       "'03/16/2022 20:30'"
      ]
     },
     "execution_count": 20,
     "metadata": {},
     "output_type": "execute_result"
    }
   ],
   "source": [
    "# convert datetime to string:\n",
    "dt.strftime('%m/%d/%Y %H:%M')"
   ]
  },
  {
   "cell_type": "code",
   "execution_count": 24,
   "id": "676327c9",
   "metadata": {},
   "outputs": [
    {
     "data": {
      "text/plain": [
       "datetime.datetime(2020, 3, 15, 0, 0)"
      ]
     },
     "execution_count": 24,
     "metadata": {},
     "output_type": "execute_result"
    }
   ],
   "source": [
    "# convert string to datetime:\n",
    "datetime.strptime('2020/03/15', '%Y/%m/%d')"
   ]
  },
  {
   "cell_type": "code",
   "execution_count": 26,
   "id": "7a8649ed",
   "metadata": {},
   "outputs": [
    {
     "data": {
      "text/plain": [
       "datetime.timedelta(days=2, seconds=6559)"
      ]
     },
     "execution_count": 26,
     "metadata": {},
     "output_type": "execute_result"
    }
   ],
   "source": [
    "# delta = the difference between two periods:\n",
    "dt2=datetime(2022, 3, 18, 22, 20, 0)\n",
    "delta=dt2-dt\n",
    "delta"
   ]
  },
  {
   "cell_type": "code",
   "execution_count": 34,
   "id": "b82c51d4",
   "metadata": {},
   "outputs": [
    {
     "data": {
      "text/plain": [
       "[('a', 0), ('b', 1), ('c', 2), ('d', 3)]"
      ]
     },
     "execution_count": 34,
     "metadata": {},
     "output_type": "execute_result"
    }
   ],
   "source": [
    "# unpacking tuple:\n",
    "a=['a', 'b', 'c', 'd']\n",
    "b=[0,1,2,3]\n",
    "tupl=zip(a,b)\n",
    "list(tupl)"
   ]
  },
  {
   "cell_type": "code",
   "execution_count": 46,
   "id": "3e84c6ae",
   "metadata": {},
   "outputs": [
    {
     "data": {
      "text/plain": [
       "['a', 'b', 'c', 'd']"
      ]
     },
     "execution_count": 46,
     "metadata": {},
     "output_type": "execute_result"
    }
   ],
   "source": [
    "j=[]\n",
    "i=[]\n",
    "for x, y in zip(a,b):\n",
    "#     print(x)\n",
    "    j.append(x)\n",
    "    i.append(y)\n",
    "    \n",
    "i\n",
    "j"
   ]
  },
  {
   "cell_type": "code",
   "execution_count": 47,
   "id": "6050ed84",
   "metadata": {},
   "outputs": [
    {
     "data": {
      "text/plain": [
       "('s', 't', 'r', 'i', 'n', 'g')"
      ]
     },
     "execution_count": 47,
     "metadata": {},
     "output_type": "execute_result"
    }
   ],
   "source": [
    "x='string'\n",
    "tuple(x)"
   ]
  },
  {
   "cell_type": "code",
   "execution_count": 49,
   "id": "0198297d",
   "metadata": {},
   "outputs": [
    {
     "data": {
      "text/plain": [
       "('xxx', [1, 2, 3, 4], True)"
      ]
     },
     "execution_count": 49,
     "metadata": {},
     "output_type": "execute_result"
    }
   ],
   "source": [
    "# tuple is inmutable, but If an object inside a tuple is mutable, such as a list, you can modify it in-place:\n",
    "y=tuple(('xxx', [1,2,3], True))\n",
    "y[1].append(4)\n",
    "y"
   ]
  },
  {
   "cell_type": "markdown",
   "id": "8a1d018e",
   "metadata": {},
   "source": [
    "Checking whether a list contains a value is a lot slower than doing so with dicts and sets, as Python makes a linear scan across the values of the list, whereas it can check the others (based on hash tables) in constant time.\n",
    "\n",
    "extend vs concatenate:\n",
    "concatenation - is more expensive, "
   ]
  },
  {
   "cell_type": "code",
   "execution_count": 51,
   "id": "10acabd0",
   "metadata": {},
   "outputs": [
    {
     "data": {
      "text/plain": [
       "[(1, 'a'), (2, 'b'), (3, 'c'), (4, 'd')]"
      ]
     },
     "execution_count": 51,
     "metadata": {},
     "output_type": "execute_result"
    }
   ],
   "source": [
    "# zip can take an arbitrary number of sequences, and the number of elements it produces is determined by the shortest sequence:\n",
    "a=(1,2,3,4,5)\n",
    "b=(\"a\", \"b\", \"c\", \"d\")\n",
    "zipped_a_b=zip(a,b)\n",
    "list(zipped_a_b)"
   ]
  },
  {
   "cell_type": "code",
   "execution_count": 64,
   "id": "d580078d",
   "metadata": {},
   "outputs": [
    {
     "name": "stdout",
     "output_type": "stream",
     "text": [
      "True\n"
     ]
    },
    {
     "data": {
      "text/plain": [
       "{'a': ['apple', 'atom'], 'b': ['bat', 'bar', 'book'], 'd': ['dog']}"
      ]
     },
     "execution_count": 64,
     "metadata": {},
     "output_type": "execute_result"
    }
   ],
   "source": [
    "# creating dictionary depending on the first letter - 3 ways:\n",
    "words = ['apple', 'bat', 'bar', 'atom', 'book', 'dog']\n",
    "letters1={}\n",
    "letters2={}\n",
    "\n",
    "for word in words:\n",
    "    letter=word[0]\n",
    "    if letter not in letters1:\n",
    "        letters1[letter]=[word]\n",
    "    else:\n",
    "        letters1[letter].append(word)       \n",
    "\n",
    "# or using setdefault method:\n",
    "for word in words:\n",
    "    letter=word[0]\n",
    "    letters2.setdefault(letter, []).append(word)\n",
    "\n",
    "# or using defaultdict method - as an argument is passed type or function for generating the default value for each slot \n",
    "# in the dict:\n",
    "from collections import defaultdict\n",
    "\n",
    "letters3=defaultdict(list)\n",
    "for word in words:\n",
    "    letters3[word[0]].append(word)\n",
    "    \n",
    "print(letters1==letters2==letters3)\n",
    "letters1"
   ]
  },
  {
   "cell_type": "code",
   "execution_count": 65,
   "id": "56d5e281",
   "metadata": {},
   "outputs": [
    {
     "data": {
      "text/plain": [
       "3794340727080330424"
      ]
     },
     "execution_count": 65,
     "metadata": {},
     "output_type": "execute_result"
    }
   ],
   "source": [
    "# in a dictionary keys must be hashable = immutable object - using hash function:\n",
    "hash((1,2,(3,4)))"
   ]
  },
  {
   "cell_type": "code",
   "execution_count": 67,
   "id": "246a454f",
   "metadata": {},
   "outputs": [
    {
     "name": "stdout",
     "output_type": "stream",
     "text": [
      "Type is mutable hence hash function does not work\n"
     ]
    }
   ],
   "source": [
    "try:\n",
    "    hash((1,2,[3,4]))\n",
    "except (TypeError):\n",
    "    print('Type is mutable hence hash function does not work')\n",
    "    \n",
    "# to use list as a key - first must be converted into tuple"
   ]
  },
  {
   "cell_type": "code",
   "execution_count": 70,
   "id": "d34a2840",
   "metadata": {},
   "outputs": [
    {
     "name": "stdout",
     "output_type": "stream",
     "text": [
      "a={1, 2, 4, 5, 6}\n",
      "b={1, 2, 4, 5, 6}\n",
      "\"a\" is equal \"b\" - True\n"
     ]
    }
   ],
   "source": [
    "#set - is an unordered collection of unique elements, created by using set function or curly braces:\n",
    "a=set([1,2,2,4,5,5,1,1,6])\n",
    "b={1,2,2,4,5,5,1,1,6}\n",
    "print(f'a={a}\\nb={b}\\n\"a\" is equal \"b\" - {a==b}')"
   ]
  },
  {
   "cell_type": "code",
   "execution_count": 74,
   "id": "895a2f32",
   "metadata": {},
   "outputs": [
    {
     "data": {
      "text/plain": [
       "{1, 3, 4, 5, 7, 8, 10}"
      ]
     },
     "execution_count": 74,
     "metadata": {},
     "output_type": "execute_result"
    }
   ],
   "source": [
    "# set supports operations like e.g. union, intersection, difference:\n",
    "x=set([5,5,4,7,7,7,3])\n",
    "y=set([10,1,1,4,4,4,8,5])\n",
    "x.union(y) # combines unique elements from each set"
   ]
  },
  {
   "cell_type": "code",
   "execution_count": 76,
   "id": "81f60b6e",
   "metadata": {},
   "outputs": [
    {
     "data": {
      "text/plain": [
       "{4, 5}"
      ]
     },
     "execution_count": 76,
     "metadata": {},
     "output_type": "execute_result"
    }
   ],
   "source": [
    "# elements occuring in both sets:\n",
    "x.intersection(y) #or:\n",
    "x & y"
   ]
  },
  {
   "cell_type": "code",
   "execution_count": 77,
   "id": "376635c0",
   "metadata": {},
   "outputs": [
    {
     "data": {
      "text/plain": [
       "False"
      ]
     },
     "execution_count": 77,
     "metadata": {},
     "output_type": "execute_result"
    }
   ],
   "source": [
    "# set -> issubset = is contained in another set or issuperset = contains all elements of another set\n",
    "a= set([1, 2, 3, 4, 5])\n",
    "a.issubset({1,2,3})"
   ]
  },
  {
   "cell_type": "code",
   "execution_count": 78,
   "id": "c87feb8a",
   "metadata": {},
   "outputs": [
    {
     "data": {
      "text/plain": [
       "True"
      ]
     },
     "execution_count": 78,
     "metadata": {},
     "output_type": "execute_result"
    }
   ],
   "source": [
    "({1,2,3}).issubset(a)"
   ]
  },
  {
   "cell_type": "code",
   "execution_count": 79,
   "id": "0ff06f93",
   "metadata": {},
   "outputs": [
    {
     "data": {
      "text/plain": [
       "True"
      ]
     },
     "execution_count": 79,
     "metadata": {},
     "output_type": "execute_result"
    }
   ],
   "source": [
    "a.issuperset({1,2,3}) # a contains all: 1,2 and 3"
   ]
  },
  {
   "cell_type": "code",
   "execution_count": 85,
   "id": "3e3ddaaa",
   "metadata": {},
   "outputs": [
    {
     "data": {
      "text/plain": [
       "['Maria', 'Natalia']"
      ]
     },
     "execution_count": 85,
     "metadata": {},
     "output_type": "execute_result"
    }
   ],
   "source": [
    "# list of lists , 2 for loops:\n",
    "all_data = [['John', 'Emily', 'Michael', 'Mary', 'Steven'],\n",
    "            ['Maria', 'Juan', 'Javier', 'Natalia', 'Pilar']]\n",
    "\n",
    "desired_list=[]\n",
    "for names in all_data:\n",
    "    [desired_list.append(name) for name in names if name.count('a')>=2] \n",
    "\n",
    "desired_list"
   ]
  },
  {
   "cell_type": "code",
   "execution_count": 87,
   "id": "70c9999a",
   "metadata": {},
   "outputs": [
    {
     "data": {
      "text/plain": [
       "['Maria', 'Natalia']"
      ]
     },
     "execution_count": 87,
     "metadata": {},
     "output_type": "execute_result"
    }
   ],
   "source": [
    "# shorter form:\n",
    "result=[name for names in all_data for name in names if name.count('a')>=2]\n",
    "result"
   ]
  },
  {
   "cell_type": "code",
   "execution_count": 88,
   "id": "485fad69",
   "metadata": {},
   "outputs": [
    {
     "data": {
      "text/plain": [
       "[1, 2, 3, 4, 5, 6, 7, 8, 9]"
      ]
     },
     "execution_count": 88,
     "metadata": {},
     "output_type": "execute_result"
    }
   ],
   "source": [
    "# flatten tuples:\n",
    "some_tuples = [(1, 2, 3), (4, 5, 6), (7, 8, 9)]\n",
    "flatten=[x for tup in some_tuples for x in tup]\n",
    "flatten"
   ]
  },
  {
   "cell_type": "code",
   "execution_count": 89,
   "id": "9e1437ad",
   "metadata": {},
   "outputs": [
    {
     "data": {
      "text/plain": [
       "[[1, 2, 3], [4, 5, 6], [7, 8, 9]]"
      ]
     },
     "execution_count": 89,
     "metadata": {},
     "output_type": "execute_result"
    }
   ],
   "source": [
    "# nested list:\n",
    "nested=[[x for x in tup] for tup in some_tuples]\n",
    "nested"
   ]
  },
  {
   "cell_type": "code",
   "execution_count": 100,
   "id": "b1490bf6",
   "metadata": {},
   "outputs": [
    {
     "data": {
      "text/plain": [
       "['Alabama',\n",
       " 'Georgia',\n",
       " 'Georgia',\n",
       " 'Georgia',\n",
       " 'Florida',\n",
       " 'South Carolina',\n",
       " 'West Virginia']"
      ]
     },
     "execution_count": 100,
     "metadata": {},
     "output_type": "execute_result"
    }
   ],
   "source": [
    "# function to clean list of strings:\n",
    "import re # module ReGex \n",
    "\n",
    "states = [' Alabama ', 'Georgia!', 'Georgia', 'georgia', 'FlOrIda', 'south carolina##', 'West virginia?']\n",
    "\n",
    "def clear_list(lista):\n",
    "    result=[]\n",
    "    for string in lista:\n",
    "        string=string.strip() # removing both the leading and the trailing characters (based on the string argument passed)\n",
    "        string=re.sub('[#?!]', '', string) # substitutes special characters\n",
    "        string=string.title() #uppercase first letter\n",
    "        result.append(string)\n",
    "    return result\n",
    "\n",
    "clear_list(states)"
   ]
  },
  {
   "cell_type": "code",
   "execution_count": 105,
   "id": "6267807b",
   "metadata": {},
   "outputs": [
    {
     "name": "stdout",
     "output_type": "stream",
     "text": [
      "multipl function: 8\n",
      "lambda: 8\n"
     ]
    }
   ],
   "source": [
    "# ANONYMOUS = LAMBDA FUNCTIONS - writing functions consisting of a single statement, lambda keyword = function declaration\n",
    "\n",
    "def multipl(x):\n",
    "    return x*2\n",
    "\n",
    "# or with lambda:\n",
    "result=lambda x: x*2\n",
    "print(f'multipl function: {multipl(4)}\\nlambda: {result(4)}')"
   ]
  },
  {
   "cell_type": "code",
   "execution_count": 113,
   "id": "02b71da7",
   "metadata": {},
   "outputs": [
    {
     "data": {
      "text/plain": [
       "['aaaa', 'foo', 'abab', 'bar', 'card']"
      ]
     },
     "execution_count": 113,
     "metadata": {},
     "output_type": "execute_result"
    }
   ],
   "source": [
    "# sort a collection of strings by the number of distinct letters in each string:\n",
    "strings = ['foo', 'card', 'bar', 'aaaa', 'abab']\n",
    "strings.sort(key= lambda x: len(set(list(x))))\n",
    "strings"
   ]
  },
  {
   "cell_type": "code",
   "execution_count": null,
   "id": "2bf81012",
   "metadata": {},
   "outputs": [],
   "source": [
    "# opening file - When you use open to create file objects, it is important to explicitly close the file when you are finished\n",
    "# with it. Closing the file releases its resources back to the operating system:\n",
    "\n",
    "f=open(path)\n",
    "for line in f:\n",
    "    ...\n",
    "\n",
    "f.close()\n",
    "\n",
    "# writing 'with' - will automatically close opened file when exiting the with block\n",
    "with open(path) as f:\n",
    "    line=[x.rstrip() for x in f]"
   ]
  },
  {
   "cell_type": "code",
   "execution_count": 116,
   "id": "63a0f8d8",
   "metadata": {},
   "outputs": [
    {
     "data": {
      "text/plain": [
       "array([0., 1., 2., 3., 4., 5., 6., 7., 8., 9.])"
      ]
     },
     "execution_count": 116,
     "metadata": {},
     "output_type": "execute_result"
    }
   ],
   "source": [
    "# ***********************************************NUMPY:\n",
    "import numpy as np\n",
    "\n",
    "arr=np.arange(10)\n",
    "arr.astype('float') # creates new array"
   ]
  },
  {
   "cell_type": "code",
   "execution_count": 117,
   "id": "4f08d3d0",
   "metadata": {},
   "outputs": [
    {
     "data": {
      "text/plain": [
       "array([  0,   1,   2,   3,   4, 100, 100, 100,   8,   9])"
      ]
     },
     "execution_count": 117,
     "metadata": {},
     "output_type": "execute_result"
    }
   ],
   "source": [
    "# any modification to the array slices are performed on the original array; if should be made on its copy - the copy() method\n",
    "# must be explicitly used:\n",
    "arr=np.arange(10)\n",
    "arr[5:8]=100\n",
    "arr"
   ]
  },
  {
   "cell_type": "code",
   "execution_count": 129,
   "id": "d26764b2",
   "metadata": {},
   "outputs": [],
   "source": [
    "arr=np.arange(12).reshape(3,4)"
   ]
  },
  {
   "cell_type": "code",
   "execution_count": 134,
   "id": "8ad43fa2",
   "metadata": {},
   "outputs": [
    {
     "data": {
      "text/plain": [
       "array([[-0.34971444, -0.51202619, -0.62722379, -0.53842864],\n",
       "       [ 0.06941134,  0.14198311, -1.39175588,  0.48052904]])"
      ]
     },
     "execution_count": 134,
     "metadata": {},
     "output_type": "execute_result"
    }
   ],
   "source": [
    "arr=np.array(['Bob', 'Joe', 'Will', 'Bob', 'Will', 'Joe', 'Joe']) # size important!\n",
    "mask=arr=='Bob'\n",
    "mask\n",
    "\n",
    "arr2=np.random.randn(7,4)\n",
    "arr2[mask] # returned first and fourth row, where name ='Bob' so was True"
   ]
  },
  {
   "cell_type": "code",
   "execution_count": 139,
   "id": "44660071",
   "metadata": {},
   "outputs": [
    {
     "data": {
      "text/plain": [
       "array([[0., 0., 0., 0.],\n",
       "       [1., 1., 1., 1.],\n",
       "       [2., 2., 2., 2.],\n",
       "       [3., 3., 3., 3.],\n",
       "       [4., 4., 4., 4.],\n",
       "       [5., 5., 5., 5.],\n",
       "       [6., 6., 6., 6.],\n",
       "       [7., 7., 7., 7.]])"
      ]
     },
     "execution_count": 139,
     "metadata": {},
     "output_type": "execute_result"
    }
   ],
   "source": [
    "x= np.empty((8,4))\n",
    "for i in range(8):\n",
    "    x[i]=i\n",
    "x"
   ]
  },
  {
   "cell_type": "code",
   "execution_count": 140,
   "id": "e9910e33",
   "metadata": {},
   "outputs": [
    {
     "data": {
      "text/plain": [
       "array([[3., 3., 3., 3.],\n",
       "       [2., 2., 2., 2.],\n",
       "       [1., 1., 1., 1.],\n",
       "       [4., 4., 4., 4.]])"
      ]
     },
     "execution_count": 140,
     "metadata": {},
     "output_type": "execute_result"
    }
   ],
   "source": [
    "# fancy indexing - indexing by numpy array\n",
    "x[[3,2,1,4]]\n",
    "\n"
   ]
  },
  {
   "cell_type": "code",
   "execution_count": 147,
   "id": "263027e8",
   "metadata": {},
   "outputs": [
    {
     "data": {
      "text/plain": [
       "array([[-1.07463763,  0.57837833, -0.59195422],\n",
       "       [ 0.81506038,  2.22786094,  1.02957917],\n",
       "       [-0.08427387, -0.16771877,  2.0505956 ],\n",
       "       [-1.98426804,  1.20041315,  0.70435987]])"
      ]
     },
     "execution_count": 147,
     "metadata": {},
     "output_type": "execute_result"
    }
   ],
   "source": [
    "# transposition:\n",
    "x=np.random.randn(3,4)\n",
    "x.T"
   ]
  },
  {
   "cell_type": "code",
   "execution_count": 156,
   "id": "ee1ee107",
   "metadata": {},
   "outputs": [
    {
     "name": "stdout",
     "output_type": "stream",
     "text": [
      "[4.39050803 5.72151493 4.82210701 4.35906546 3.38923839 5.1671529\n",
      " 3.50069769]\n",
      "[0.39050803 0.72151493 0.82210701 0.35906546 0.38923839 0.1671529\n",
      " 0.50069769]\n"
     ]
    }
   ],
   "source": [
    "# UNIVERSAL FUNCTIONS = UFUNC -> function that performs element wise operations on data in ndarrays:\n",
    "rng=np.random.RandomState(0)\n",
    "x=rng.rand(7)*8\n",
    "reminder, whole_part=np.modf(x) # splits array on two separate arrays with reminder and whole number)\n",
    "print(x)\n",
    "print(reminder)"
   ]
  },
  {
   "cell_type": "code",
   "execution_count": null,
   "id": "1f5712a4",
   "metadata": {},
   "outputs": [],
   "source": []
  }
 ],
 "metadata": {
  "kernelspec": {
   "display_name": "Python 3",
   "language": "python",
   "name": "python3"
  },
  "language_info": {
   "codemirror_mode": {
    "name": "ipython",
    "version": 3
   },
   "file_extension": ".py",
   "mimetype": "text/x-python",
   "name": "python",
   "nbconvert_exporter": "python",
   "pygments_lexer": "ipython3",
   "version": "3.8.8"
  }
 },
 "nbformat": 4,
 "nbformat_minor": 5
}
