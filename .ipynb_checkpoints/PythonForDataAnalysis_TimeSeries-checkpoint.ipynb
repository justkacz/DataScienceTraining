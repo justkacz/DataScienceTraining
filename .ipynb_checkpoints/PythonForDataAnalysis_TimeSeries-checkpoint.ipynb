{
 "cells": [
  {
   "cell_type": "code",
   "execution_count": 36,
   "id": "108ec27e",
   "metadata": {},
   "outputs": [
    {
     "data": {
      "text/plain": [
       "datetime.datetime(2022, 5, 4, 15, 41, 48, 456428)"
      ]
     },
     "execution_count": 36,
     "metadata": {},
     "output_type": "execute_result"
    }
   ],
   "source": [
    "import pandas as pd\n",
    "import numpy as np\n",
    "from datetime import datetime\n",
    "rng=np.random.RandomState(0)\n",
    "\n",
    "\n",
    "datetime.now()"
   ]
  },
  {
   "cell_type": "code",
   "execution_count": 3,
   "id": "5e5d828d",
   "metadata": {},
   "outputs": [
    {
     "name": "stdout",
     "output_type": "stream",
     "text": [
      "2022\n",
      "13\n"
     ]
    }
   ],
   "source": [
    "now=datetime.now()\n",
    "print(now.year)\n",
    "print(now.hour)"
   ]
  },
  {
   "cell_type": "code",
   "execution_count": 7,
   "id": "36a58f62",
   "metadata": {},
   "outputs": [
    {
     "data": {
      "text/plain": [
       "datetime.timedelta(days=18, seconds=56400)"
      ]
     },
     "execution_count": 7,
     "metadata": {},
     "output_type": "execute_result"
    }
   ],
   "source": [
    "delta=datetime(2022,4,20)-datetime(2022,4,1, 8,20)\n",
    "delta"
   ]
  },
  {
   "cell_type": "code",
   "execution_count": 13,
   "id": "96e64560",
   "metadata": {},
   "outputs": [
    {
     "data": {
      "text/plain": [
       "datetime.datetime(2022, 5, 16, 0, 0)"
      ]
     },
     "execution_count": 13,
     "metadata": {},
     "output_type": "execute_result"
    }
   ],
   "source": [
    "from datetime import timedelta\n",
    "\n",
    "first=datetime(2022,5,4)\n",
    "end=first + timedelta(12) # adding 12 days\n",
    "end"
   ]
  },
  {
   "cell_type": "code",
   "execution_count": 22,
   "id": "67861dca",
   "metadata": {},
   "outputs": [
    {
     "data": {
      "text/plain": [
       "str"
      ]
     },
     "execution_count": 22,
     "metadata": {},
     "output_type": "execute_result"
    }
   ],
   "source": [
    "# converting datetime to string (string formating using strftime):\n",
    "date_d=datetime(2022,5,2)\n",
    "\n",
    "date_f=date_d.strftime('%Y-%m-%d') # or str(date_d)\n",
    "type(date_f)"
   ]
  },
  {
   "cell_type": "code",
   "execution_count": 28,
   "id": "1033051d",
   "metadata": {},
   "outputs": [
    {
     "data": {
      "text/plain": [
       "datetime.datetime(2022, 5, 1, 0, 0)"
      ]
     },
     "execution_count": 28,
     "metadata": {},
     "output_type": "execute_result"
    }
   ],
   "source": [
    "# converting string to datetime\n",
    "ds='2022-05-01'\n",
    "d=datetime.strptime(ds,'%Y-%m-%d')\n",
    "d"
   ]
  },
  {
   "cell_type": "code",
   "execution_count": 29,
   "id": "4cea6241",
   "metadata": {},
   "outputs": [
    {
     "data": {
      "text/plain": [
       "datetime.datetime(1997, 1, 31, 22, 45)"
      ]
     },
     "execution_count": 29,
     "metadata": {},
     "output_type": "execute_result"
    }
   ],
   "source": [
    "# or using dateutil.parser library\n",
    "from dateutil.parser import parse\n",
    "\n",
    "parse('Jan 31, 1997 10:45 PM')"
   ]
  },
  {
   "cell_type": "code",
   "execution_count": 30,
   "id": "88259d9d",
   "metadata": {},
   "outputs": [
    {
     "data": {
      "text/plain": [
       "datetime.datetime(2022, 5, 1, 0, 0)"
      ]
     },
     "execution_count": 30,
     "metadata": {},
     "output_type": "execute_result"
    }
   ],
   "source": [
    "parse('01/05/2022', dayfirst=True)"
   ]
  },
  {
   "cell_type": "code",
   "execution_count": 37,
   "id": "44387ff1",
   "metadata": {},
   "outputs": [
    {
     "data": {
      "text/plain": [
       "2022-05-01    1.764052\n",
       "2022-05-02    0.400157\n",
       "2022-05-03    0.978738\n",
       "2022-05-04    2.240893\n",
       "2022-05-05    1.867558\n",
       "                ...   \n",
       "2025-01-20    0.412871\n",
       "2025-01-21   -0.198399\n",
       "2025-01-22    0.094192\n",
       "2025-01-23   -1.147611\n",
       "2025-01-24   -0.358114\n",
       "Freq: D, Length: 1000, dtype: float64"
      ]
     },
     "execution_count": 37,
     "metadata": {},
     "output_type": "execute_result"
    }
   ],
   "source": [
    "# index -> daterange:\n",
    "range_index=pd.Series(rng.randn(1000), index=pd.date_range('2022/05/01', periods=1000))\n",
    "range_index"
   ]
  },
  {
   "cell_type": "code",
   "execution_count": 42,
   "id": "90f59b86",
   "metadata": {},
   "outputs": [
    {
     "data": {
      "text/plain": [
       "True"
      ]
     },
     "execution_count": 42,
     "metadata": {},
     "output_type": "execute_result"
    }
   ],
   "source": [
    "range_index.is_unique"
   ]
  },
  {
   "cell_type": "code",
   "execution_count": 38,
   "id": "2078a266",
   "metadata": {},
   "outputs": [
    {
     "data": {
      "text/plain": [
       "2023-01-01   -1.676004\n",
       "2023-01-02    1.152332\n",
       "2023-01-03    1.079619\n",
       "2023-01-04   -0.813364\n",
       "2023-01-05   -1.466424\n",
       "                ...   \n",
       "2023-12-27   -0.590058\n",
       "2023-12-28   -0.110489\n",
       "2023-12-29   -1.660700\n",
       "2023-12-30    0.115148\n",
       "2023-12-31   -0.379148\n",
       "Freq: D, Length: 365, dtype: float64"
      ]
     },
     "execution_count": 38,
     "metadata": {},
     "output_type": "execute_result"
    }
   ],
   "source": [
    "#slicing\n",
    "range_index['2023']"
   ]
  },
  {
   "cell_type": "code",
   "execution_count": 41,
   "id": "16469565",
   "metadata": {},
   "outputs": [
    {
     "data": {
      "text/plain": [
       "DatetimeIndex(['2022-05-04', '2022-05-11', '2022-05-18', '2022-05-25',\n",
       "               '2022-06-01', '2022-06-08', '2022-06-15', '2022-06-22',\n",
       "               '2022-06-29', '2022-07-06', '2022-07-13', '2022-07-20',\n",
       "               '2022-07-27', '2022-08-03', '2022-08-10', '2022-08-17',\n",
       "               '2022-08-24', '2022-08-31', '2022-09-07', '2022-09-14',\n",
       "               '2022-09-21', '2022-09-28', '2022-10-05', '2022-10-12',\n",
       "               '2022-10-19', '2022-10-26', '2022-11-02', '2022-11-09',\n",
       "               '2022-11-16', '2022-11-23', '2022-11-30', '2022-12-07',\n",
       "               '2022-12-14', '2022-12-21', '2022-12-28', '2023-01-04',\n",
       "               '2023-01-11', '2023-01-18', '2023-01-25', '2023-02-01',\n",
       "               '2023-02-08', '2023-02-15', '2023-02-22', '2023-03-01',\n",
       "               '2023-03-08', '2023-03-15', '2023-03-22', '2023-03-29',\n",
       "               '2023-04-05', '2023-04-12', '2023-04-19', '2023-04-26',\n",
       "               '2023-05-03', '2023-05-10', '2023-05-17', '2023-05-24',\n",
       "               '2023-05-31', '2023-06-07', '2023-06-14', '2023-06-21',\n",
       "               '2023-06-28', '2023-07-05', '2023-07-12', '2023-07-19',\n",
       "               '2023-07-26', '2023-08-02', '2023-08-09', '2023-08-16',\n",
       "               '2023-08-23', '2023-08-30', '2023-09-06', '2023-09-13',\n",
       "               '2023-09-20', '2023-09-27', '2023-10-04', '2023-10-11',\n",
       "               '2023-10-18', '2023-10-25', '2023-11-01', '2023-11-08',\n",
       "               '2023-11-15', '2023-11-22', '2023-11-29', '2023-12-06',\n",
       "               '2023-12-13', '2023-12-20', '2023-12-27', '2024-01-03',\n",
       "               '2024-01-10', '2024-01-17', '2024-01-24', '2024-01-31',\n",
       "               '2024-02-07', '2024-02-14', '2024-02-21', '2024-02-28',\n",
       "               '2024-03-06', '2024-03-13', '2024-03-20', '2024-03-27'],\n",
       "              dtype='datetime64[ns]', freq='W-WED')"
      ]
     },
     "execution_count": 41,
     "metadata": {},
     "output_type": "execute_result"
    }
   ],
   "source": [
    "dates = pd.date_range('5/1/2022', periods=100, freq='W-WED') # extracting only Wednesdays, 'B' - only business days\n",
    "dates"
   ]
  },
  {
   "cell_type": "code",
   "execution_count": 46,
   "id": "a0a7f5dd",
   "metadata": {},
   "outputs": [
    {
     "data": {
      "text/plain": [
       "False"
      ]
     },
     "execution_count": 46,
     "metadata": {},
     "output_type": "execute_result"
    }
   ],
   "source": [
    "x=pd.Series([1,4,3,7], index=[datetime(2022,5,1), datetime(2022,5,2), datetime(2022,5,2), datetime(2022,5,3)])\n",
    "x.index.is_unique"
   ]
  },
  {
   "cell_type": "code",
   "execution_count": 50,
   "id": "e00c1df0",
   "metadata": {},
   "outputs": [
    {
     "data": {
      "text/plain": [
       "DatetimeIndex(['2000-01-01 00:00:00', '2000-01-01 04:00:00',\n",
       "               '2000-01-01 08:00:00', '2000-01-01 12:00:00',\n",
       "               '2000-01-01 16:00:00', '2000-01-01 20:00:00',\n",
       "               '2000-01-02 00:00:00', '2000-01-02 04:00:00',\n",
       "               '2000-01-02 08:00:00', '2000-01-02 12:00:00',\n",
       "               '2000-01-02 16:00:00', '2000-01-02 20:00:00',\n",
       "               '2000-01-03 00:00:00'],\n",
       "              dtype='datetime64[ns]', freq='4H')"
      ]
     },
     "execution_count": 50,
     "metadata": {},
     "output_type": "execute_result"
    }
   ],
   "source": [
    "# hourly frequencies:\n",
    "pd.date_range('2000-01-01', '2000-01-03', freq='4h')"
   ]
  },
  {
   "cell_type": "code",
   "execution_count": 53,
   "id": "9e79a704",
   "metadata": {},
   "outputs": [
    {
     "data": {
      "text/plain": [
       "<150 * Minutes>"
      ]
     },
     "execution_count": 53,
     "metadata": {},
     "output_type": "execute_result"
    }
   ],
   "source": [
    "from pandas.tseries.offsets import Hour, Minute\n",
    "\n",
    "#addition hours-minutes:\n",
    "Hour(2)+Minute(30)"
   ]
  }
 ],
 "metadata": {
  "kernelspec": {
   "display_name": "Python 3",
   "language": "python",
   "name": "python3"
  },
  "language_info": {
   "codemirror_mode": {
    "name": "ipython",
    "version": 3
   },
   "file_extension": ".py",
   "mimetype": "text/x-python",
   "name": "python",
   "nbconvert_exporter": "python",
   "pygments_lexer": "ipython3",
   "version": "3.8.8"
  }
 },
 "nbformat": 4,
 "nbformat_minor": 5
}
